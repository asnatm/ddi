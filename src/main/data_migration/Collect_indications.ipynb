{
 "cells": [
  {
   "cell_type": "markdown",
   "metadata": {
    "toc": true
   },
   "source": [
    "<h1>Table of Contents<span class=\"tocSkip\"></span></h1>\n",
    "<div class=\"toc\"><ul class=\"toc-item\"><li><span><a href=\"#Imports\" data-toc-modified-id=\"Imports-1\"><span class=\"toc-item-num\">1&nbsp;&nbsp;</span>Imports</a></span></li><li><span><a href=\"#Util-Functions\" data-toc-modified-id=\"Util-Functions-2\"><span class=\"toc-item-num\">2&nbsp;&nbsp;</span>Util Functions</a></span><ul class=\"toc-item\"><li><span><a href=\"#Save-to-pickle\" data-toc-modified-id=\"Save-to-pickle-2.1\"><span class=\"toc-item-num\">2.1&nbsp;&nbsp;</span>Save to pickle</a></span></li><li><span><a href=\"#Load-Pickle\" data-toc-modified-id=\"Load-Pickle-2.2\"><span class=\"toc-item-num\">2.2&nbsp;&nbsp;</span>Load Pickle</a></span></li><li><span><a href=\"#Open-Zipfile\" data-toc-modified-id=\"Open-Zipfile-2.3\"><span class=\"toc-item-num\">2.3&nbsp;&nbsp;</span>Open Zipfile</a></span></li></ul></li><li><span><a href=\"#Load-drug_list\" data-toc-modified-id=\"Load-drug_list-3\"><span class=\"toc-item-num\">3&nbsp;&nbsp;</span>Load drug_list</a></span><ul class=\"toc-item\"><li><span><a href=\"#Load-Root\" data-toc-modified-id=\"Load-Root-3.1\"><span class=\"toc-item-num\">3.1&nbsp;&nbsp;</span>Load Root</a></span></li><li><span><a href=\"#Save-drugs-list\" data-toc-modified-id=\"Save-drugs-list-3.2\"><span class=\"toc-item-num\">3.2&nbsp;&nbsp;</span>Save drugs list</a></span></li><li><span><a href=\"#Load-preprocessed-file\" data-toc-modified-id=\"Load-preprocessed-file-3.3\"><span class=\"toc-item-num\">3.3&nbsp;&nbsp;</span>Load preprocessed file</a></span></li></ul></li><li><span><a href=\"#Scrap\" data-toc-modified-id=\"Scrap-4\"><span class=\"toc-item-num\">4&nbsp;&nbsp;</span>Scrap</a></span><ul class=\"toc-item\"><li><span><a href=\"#Scrap-drugs-indications\" data-toc-modified-id=\"Scrap-drugs-indications-4.1\"><span class=\"toc-item-num\">4.1&nbsp;&nbsp;</span>Scrap drugs-indications</a></span></li><li><span><a href=\"#Scap-all-drugs-pages\" data-toc-modified-id=\"Scap-all-drugs-pages-4.2\"><span class=\"toc-item-num\">4.2&nbsp;&nbsp;</span>Scap all drugs pages</a></span></li><li><span><a href=\"#Scrap-all-indication-pages\" data-toc-modified-id=\"Scrap-all-indication-pages-4.3\"><span class=\"toc-item-num\">4.3&nbsp;&nbsp;</span>Scrap all indication pages</a></span></li><li><span><a href=\"#save-drugs-and-indications\" data-toc-modified-id=\"save-drugs-and-indications-4.4\"><span class=\"toc-item-num\">4.4&nbsp;&nbsp;</span>save drugs and indications</a></span></li><li><span><a href=\"#Load-drug-indication\" data-toc-modified-id=\"Load-drug-indication-4.5\"><span class=\"toc-item-num\">4.5&nbsp;&nbsp;</span>Load drug-indication</a></span></li></ul></li><li><span><a href=\"#Convert-dict-to-df\" data-toc-modified-id=\"Convert-dict-to-df-5\"><span class=\"toc-item-num\">5&nbsp;&nbsp;</span>Convert dict to df</a></span></li></ul></div>"
   ]
  },
  {
   "cell_type": "markdown",
   "metadata": {},
   "source": [
    "# Imports"
   ]
  },
  {
   "cell_type": "code",
   "execution_count": 1,
   "metadata": {
    "ExecuteTime": {
     "end_time": "2020-05-05T10:52:29.209853Z",
     "start_time": "2020-05-05T10:52:27.188998Z"
    },
    "init_cell": true
   },
   "outputs": [],
   "source": [
    "import time\n",
    "import requests\n",
    "import re\n",
    "import os\n",
    "import zipfile\n",
    "import xml.etree.ElementTree\n",
    "import pickle\n",
    "import pandas as pd\n",
    "import gzip\n",
    "\n",
    "from tqdm import tqdm_notebook as tqdm"
   ]
  },
  {
   "cell_type": "markdown",
   "metadata": {},
   "source": [
    "# Util Functions"
   ]
  },
  {
   "cell_type": "markdown",
   "metadata": {
    "ExecuteTime": {
     "end_time": "2020-03-09T10:03:30.461269Z",
     "start_time": "2020-03-09T10:03:30.457396Z"
    }
   },
   "source": [
    "## Save to pickle"
   ]
  },
  {
   "cell_type": "code",
   "execution_count": 2,
   "metadata": {
    "ExecuteTime": {
     "end_time": "2020-05-05T10:52:29.219205Z",
     "start_time": "2020-05-05T10:52:29.213574Z"
    },
    "init_cell": true
   },
   "outputs": [],
   "source": [
    "def save_to_pickle(file_path, data):\n",
    "    with open(file_path, 'wb') as f:\n",
    "        pickle.dump(data, f)"
   ]
  },
  {
   "cell_type": "markdown",
   "metadata": {},
   "source": [
    "## Load Pickle"
   ]
  },
  {
   "cell_type": "code",
   "execution_count": 3,
   "metadata": {
    "ExecuteTime": {
     "end_time": "2020-05-05T10:52:29.231901Z",
     "start_time": "2020-05-05T10:52:29.223283Z"
    },
    "init_cell": true
   },
   "outputs": [],
   "source": [
    "def load_pickle(file_path):\n",
    "    with open(file_path, 'rb') as f:\n",
    "        data = pickle.load(f)\n",
    "        return data"
   ]
  },
  {
   "cell_type": "markdown",
   "metadata": {},
   "source": [
    "## Open Zipfile"
   ]
  },
  {
   "cell_type": "code",
   "execution_count": 4,
   "metadata": {
    "ExecuteTime": {
     "end_time": "2020-05-05T10:52:29.242811Z",
     "start_time": "2020-05-05T10:52:29.234403Z"
    },
    "init_cell": true
   },
   "outputs": [],
   "source": [
    "def open_zipfile(zip_path, file_name):\n",
    "    archive = zipfile.ZipFile(zip_path, 'r')\n",
    "    db_file = archive.open(file_name) "
   ]
  },
  {
   "cell_type": "markdown",
   "metadata": {},
   "source": [
    "# Load drug_list"
   ]
  },
  {
   "cell_type": "code",
   "execution_count": 8,
   "metadata": {
    "ExecuteTime": {
     "end_time": "2020-03-04T12:19:39.630187Z",
     "start_time": "2020-03-04T12:19:39.591683Z"
    }
   },
   "outputs": [],
   "source": [
    "drug_list_path = '../Data sets/DrugBank/drugbank_all_full_database.xml.zip'\n",
    "inside_file_name = 'full database.xml'\n",
    "drug_set_approved = set()\n",
    "drug_set_not_approved = set()\n",
    "archive = zipfile.ZipFile(drug_list_path, 'r')\n",
    "db_file = archive.open(inside_file_name)"
   ]
  },
  {
   "cell_type": "markdown",
   "metadata": {},
   "source": [
    "## Load Root"
   ]
  },
  {
   "cell_type": "code",
   "execution_count": 9,
   "metadata": {
    "ExecuteTime": {
     "end_time": "2020-03-04T12:20:41.907107Z",
     "start_time": "2020-03-04T12:19:43.752384Z"
    }
   },
   "outputs": [
    {
     "name": "stdout",
     "output_type": "stream",
     "text": [
      "Starting to parse XML file\n"
     ]
    }
   ],
   "source": [
    "print('Starting to parse XML file')\n",
    "root = xml.etree.ElementTree.parse(db_file).getroot()"
   ]
  },
  {
   "cell_type": "code",
   "execution_count": 10,
   "metadata": {
    "ExecuteTime": {
     "end_time": "2020-03-04T12:20:42.141489Z",
     "start_time": "2020-03-04T12:20:41.918702Z"
    }
   },
   "outputs": [
    {
     "name": "stderr",
     "output_type": "stream",
     "text": [
      "/home/rdo/.conda/envs/new_env/lib/python3.6/site-packages/ipykernel_launcher.py:11: TqdmDeprecationWarning: This function will be removed in tqdm==5.0.0\n",
      "Please use `tqdm.notebook.tqdm` instead of `tqdm.tqdm_notebook`\n",
      "  # This is added back by InteractiveShellApp.init_path()\n"
     ]
    },
    {
     "data": {
      "application/vnd.jupyter.widget-view+json": {
       "model_id": "32149553d70c4cb0aaa512a08e3ff9e4",
       "version_major": 2,
       "version_minor": 0
      },
      "text/plain": [
       "HBox(children=(FloatProgress(value=1.0, bar_style='info', max=1.0), HTML(value='')))"
      ]
     },
     "metadata": {},
     "output_type": "display_data"
    },
    {
     "name": "stdout",
     "output_type": "stream",
     "text": [
      "\n"
     ]
    }
   ],
   "source": [
    "ns = '{http://www.drugbank.ca}'\n",
    "for i, drug in tqdm(enumerate(root)):\n",
    "    assert drug.tag == '{ns}drug'.format(ns=ns)\n",
    "    drug_p_id = drug.findtext(\"{ns}drugbank-id[@primary='true']\".format(ns=ns))\n",
    "    assert drug_p_id not in drug_set_approved and drug_p_id not in drug_set_not_approved\n",
    "    assert len(drug.findall(\"{ns}groups\".format(ns=ns))) == 1\n",
    "    drug_approved=False\n",
    "    for i,group in enumerate(drug.findall(\"{ns}groups\".format(ns=ns))[0].getchildren()):\n",
    "        if 'approved' == group.text:\n",
    "            drug_approved = True\n",
    "            break\n",
    "    if drug_approved:\n",
    "        drug_set_approved.add(drug_p_id)\n",
    "    else:\n",
    "        drug_set_not_approved.add(drug_p_id)\n"
   ]
  },
  {
   "cell_type": "code",
   "execution_count": 11,
   "metadata": {
    "ExecuteTime": {
     "end_time": "2020-03-04T12:20:42.160556Z",
     "start_time": "2020-03-04T12:20:42.157456Z"
    }
   },
   "outputs": [
    {
     "name": "stdout",
     "output_type": "stream",
     "text": [
      "Approved drugs: 3988\n",
      "Not Approved drugs: 9487\n"
     ]
    }
   ],
   "source": [
    "print(f'Approved drugs: {len(drug_set_approved)}')\n",
    "print(f'Not Approved drugs: {len(drug_set_not_approved)}')"
   ]
  },
  {
   "cell_type": "code",
   "execution_count": 12,
   "metadata": {
    "ExecuteTime": {
     "end_time": "2020-03-04T12:20:42.178549Z",
     "start_time": "2020-03-04T12:20:42.175390Z"
    }
   },
   "outputs": [],
   "source": [
    "all_drugs = drug_set_approved.union(drug_set_not_approved)\n",
    "drug_list = list(all_drugs)"
   ]
  },
  {
   "cell_type": "markdown",
   "metadata": {},
   "source": [
    "## Save drugs list"
   ]
  },
  {
   "cell_type": "code",
   "execution_count": 13,
   "metadata": {
    "ExecuteTime": {
     "end_time": "2020-03-04T12:20:42.202008Z",
     "start_time": "2020-03-04T12:20:42.200009Z"
    }
   },
   "outputs": [],
   "source": [
    "saved_drugs_path = 'all_drugs.pickle'"
   ]
  },
  {
   "cell_type": "code",
   "execution_count": 14,
   "metadata": {
    "ExecuteTime": {
     "end_time": "2020-03-04T12:21:01.250997Z",
     "start_time": "2020-03-04T12:21:00.825100Z"
    }
   },
   "outputs": [
    {
     "ename": "NameError",
     "evalue": "name 'savesaved_drugs_pathd_file_path' is not defined",
     "output_type": "error",
     "traceback": [
      "\u001b[0;31m---------------------------------------------------------------------------\u001b[0m",
      "\u001b[0;31mNameError\u001b[0m                                 Traceback (most recent call last)",
      "\u001b[0;32m<ipython-input-14-c92c9770bdc5>\u001b[0m in \u001b[0;36m<module>\u001b[0;34m\u001b[0m\n\u001b[0;32m----> 1\u001b[0;31m \u001b[0msave_to_pickle\u001b[0m\u001b[0;34m(\u001b[0m\u001b[0msavesaved_drugs_pathd_file_path\u001b[0m\u001b[0;34m,\u001b[0m \u001b[0mdrug_list\u001b[0m\u001b[0;34m)\u001b[0m\u001b[0;34m\u001b[0m\u001b[0;34m\u001b[0m\u001b[0m\n\u001b[0m",
      "\u001b[0;31mNameError\u001b[0m: name 'savesaved_drugs_pathd_file_path' is not defined"
     ]
    }
   ],
   "source": [
    "save_to_pickle(saved_drugs_path, drug_list)"
   ]
  },
  {
   "cell_type": "markdown",
   "metadata": {},
   "source": [
    "## Load preprocessed file"
   ]
  },
  {
   "cell_type": "code",
   "execution_count": 14,
   "metadata": {
    "ExecuteTime": {
     "end_time": "2020-03-04T11:39:23.137507Z",
     "start_time": "2020-03-04T11:39:23.126542Z"
    }
   },
   "outputs": [
    {
     "name": "stdout",
     "output_type": "stream",
     "text": [
      "number of drugs: 3988\n"
     ]
    }
   ],
   "source": [
    "drug_list = load_pickle(saved_drugs_path):"
   ]
  },
  {
   "cell_type": "markdown",
   "metadata": {},
   "source": [
    "# Scrap"
   ]
  },
  {
   "cell_type": "markdown",
   "metadata": {},
   "source": [
    "## Scrap drugs-indications"
   ]
  },
  {
   "cell_type": "code",
   "execution_count": 15,
   "metadata": {
    "ExecuteTime": {
     "end_time": "2020-03-04T17:48:51.109670Z",
     "start_time": "2020-03-04T12:21:06.629876Z"
    },
    "scrolled": true
   },
   "outputs": [
    {
     "name": "stderr",
     "output_type": "stream",
     "text": [
      "/home/rdo/.conda/envs/new_env/lib/python3.6/site-packages/ipykernel_launcher.py:8: TqdmDeprecationWarning: This function will be removed in tqdm==5.0.0\n",
      "Please use `tqdm.notebook.tqdm` instead of `tqdm.tqdm_notebook`\n",
      "  \n"
     ]
    },
    {
     "data": {
      "application/vnd.jupyter.widget-view+json": {
       "model_id": "e7933c13f500425ba73447929d48e413",
       "version_major": 2,
       "version_minor": 0
      },
      "text/plain": [
       "HBox(children=(FloatProgress(value=0.0, max=13475.0), HTML(value='')))"
      ]
     },
     "metadata": {},
     "output_type": "display_data"
    },
    {
     "name": "stderr",
     "output_type": "stream",
     "text": [
      "IOPub message rate exceeded.\n",
      "The notebook server will temporarily stop sending output\n",
      "to the client in order to avoid crashing it.\n",
      "To change this limit, set the config variable\n",
      "`--NotebookApp.iopub_msg_rate_limit`.\n",
      "\n",
      "Current values:\n",
      "NotebookApp.iopub_msg_rate_limit=1000.0 (msgs/sec)\n",
      "NotebookApp.rate_limit_window=3.0 (secs)\n",
      "\n",
      "IOPub message rate exceeded.\n",
      "The notebook server will temporarily stop sending output\n",
      "to the client in order to avoid crashing it.\n",
      "To change this limit, set the config variable\n",
      "`--NotebookApp.iopub_msg_rate_limit`.\n",
      "\n",
      "Current values:\n",
      "NotebookApp.iopub_msg_rate_limit=1000.0 (msgs/sec)\n",
      "NotebookApp.rate_limit_window=3.0 (secs)\n",
      "\n",
      "IOPub message rate exceeded.\n",
      "The notebook server will temporarily stop sending output\n",
      "to the client in order to avoid crashing it.\n",
      "To change this limit, set the config variable\n",
      "`--NotebookApp.iopub_msg_rate_limit`.\n",
      "\n",
      "Current values:\n",
      "NotebookApp.iopub_msg_rate_limit=1000.0 (msgs/sec)\n",
      "NotebookApp.rate_limit_window=3.0 (secs)\n",
      "\n"
     ]
    }
   ],
   "source": [
    "base_path = \"https://www.drugbank.ca/drugs/\"\n",
    "# drug_list_path = \n",
    "# drug_list = ['DB00316','DB00787']\n",
    "time_delay = 1\n",
    "\n",
    "drug_ind_dict = {}\n",
    "drug_info = \"drug_info\"\n",
    "for d in tqdm(drug_list):\n",
    "    url = base_path + d\n",
    "    page = requests.get(url)\n",
    "    inds = []\n",
    "    for m_start in [m.start() for m in re.finditer('<li><a href=\"/indications/', page.text)]:\n",
    "        m_end = page.text.find('\">',m_start)\n",
    "        m_text = page.text[m_start:m_end]\n",
    "        indication_id = m_text[m_text.find('=\"/')+3 + len('indications/'):]\n",
    "#         print(indication_id)\n",
    "        \n",
    "        m_start = page.text.find('\">',m_end)\n",
    "        m_end = page.text.find('</',m_start)\n",
    "        m_text = page.text[m_start:m_end]\n",
    "        indication_label = m_text[m_text.find('=\"/')+3 :]\n",
    "#         print(indication_label)\n",
    "        inds.append((indication_id, indication_label))\n",
    "    drug_ind_dict[d] = inds\n",
    "    time.sleep(time_delay)  # Delay for time_delay seconds.\n",
    "#     file = open(os.path.join(drug_info, str(d)+\".txt\"), \"w\")\n",
    "#     file.write(page.text)\n",
    "#     file.close()\n",
    "print(drug_ind_dict)\n",
    "\n",
    "#download all pages of indictions with textual explanations"
   ]
  },
  {
   "cell_type": "markdown",
   "metadata": {},
   "source": [
    "## Scap all drugs pages"
   ]
  },
  {
   "cell_type": "code",
   "execution_count": 69,
   "metadata": {
    "ExecuteTime": {
     "end_time": "2020-03-09T12:52:57.636721Z",
     "start_time": "2020-03-09T10:36:40.152170Z"
    }
   },
   "outputs": [
    {
     "name": "stderr",
     "output_type": "stream",
     "text": [
      "/home/rdo/.conda/envs/new_env/lib/python3.6/site-packages/ipykernel_launcher.py:9: TqdmDeprecationWarning: This function will be removed in tqdm==5.0.0\n",
      "Please use `tqdm.notebook.tqdm` instead of `tqdm.tqdm_notebook`\n",
      "  if __name__ == '__main__':\n"
     ]
    },
    {
     "data": {
      "application/vnd.jupyter.widget-view+json": {
       "model_id": "613fb22f000a4ef3bb7d99d2b11150b9",
       "version_major": 2,
       "version_minor": 0
      },
      "text/plain": [
       "HBox(children=(FloatProgress(value=0.0, max=13475.0), HTML(value='')))"
      ]
     },
     "metadata": {},
     "output_type": "display_data"
    },
    {
     "name": "stdout",
     "output_type": "stream",
     "text": [
      "\n"
     ]
    }
   ],
   "source": [
    "base_path = \"https://www.drugbank.ca/drugs/\"\n",
    "drugs_dir = \"/home/rdo/Thesis/Data sets/DrugBank/All pages/\"\n",
    "time_delay = 1\n",
    "\n",
    "# ans = {}\n",
    "drug_info = \"drug_info\"\n",
    "for d in tqdm(drug_list):\n",
    "    url = base_path + d\n",
    "    page = requests.get(url)\n",
    "    file_path = os.path.join(drugs_dir, f'{d}.txt')\n",
    "    with open(file_path, 'w') as file:\n",
    "        file.write(page.text)\n",
    "    "
   ]
  },
  {
   "cell_type": "markdown",
   "metadata": {},
   "source": [
    "## Scrap all indication pages"
   ]
  },
  {
   "cell_type": "code",
   "execution_count": 70,
   "metadata": {
    "ExecuteTime": {
     "end_time": "2020-03-09T13:07:18.653378Z",
     "start_time": "2020-03-09T12:52:57.979536Z"
    }
   },
   "outputs": [
    {
     "name": "stderr",
     "output_type": "stream",
     "text": [
      "/home/rdo/.conda/envs/new_env/lib/python3.6/site-packages/ipykernel_launcher.py:10: TqdmDeprecationWarning: This function will be removed in tqdm==5.0.0\n",
      "Please use `tqdm.notebook.tqdm` instead of `tqdm.tqdm_notebook`\n",
      "  # Remove the CWD from sys.path while we load stuff.\n"
     ]
    },
    {
     "data": {
      "application/vnd.jupyter.widget-view+json": {
       "model_id": "5acca0f8c8f44521b43e95b60c1223c8",
       "version_major": 2,
       "version_minor": 0
      },
      "text/plain": [
       "HBox(children=(FloatProgress(value=0.0, max=3539.0), HTML(value='')))"
      ]
     },
     "metadata": {},
     "output_type": "display_data"
    },
    {
     "name": "stdout",
     "output_type": "stream",
     "text": [
      "\n"
     ]
    }
   ],
   "source": [
    "base_path = \"https://www.drugbank.ca/indications/\"\n",
    "drugs_dir = \"/home/rdo/Thesis/Data sets/DrugBank/All indications/\"\n",
    "\n",
    "time_delay = 1\n",
    "\n",
    "indication_list = df['ind_id'].unique()\n",
    "\n",
    "# ans = {}\n",
    "drug_info = \"drug_info\"\n",
    "for d in tqdm(indication_list):\n",
    "    url = base_path + d\n",
    "    page = requests.get(url)\n",
    "    file_path = os.path.join(drugs_dir, f'{d}.txt')\n",
    "    with open(file_path, 'w') as file:\n",
    "        file.write(page.text)"
   ]
  },
  {
   "cell_type": "markdown",
   "metadata": {},
   "source": [
    "## save drugs and indications"
   ]
  },
  {
   "cell_type": "code",
   "execution_count": 16,
   "metadata": {
    "ExecuteTime": {
     "end_time": "2020-03-04T17:48:51.196027Z",
     "start_time": "2020-03-04T17:48:51.164488Z"
    }
   },
   "outputs": [],
   "source": [
    "drug_ind_path = 'drugs_indications_dict.pickle'\n",
    "save_to_pickle(drug_ind_path, drug_ind_dict)"
   ]
  },
  {
   "cell_type": "markdown",
   "metadata": {},
   "source": [
    "## Load drug-indication"
   ]
  },
  {
   "cell_type": "code",
   "execution_count": 6,
   "metadata": {
    "ExecuteTime": {
     "end_time": "2020-03-18T12:00:44.778760Z",
     "start_time": "2020-03-18T12:00:44.600850Z"
    }
   },
   "outputs": [
    {
     "data": {
      "text/plain": [
       "13475"
      ]
     },
     "execution_count": 6,
     "metadata": {},
     "output_type": "execute_result"
    }
   ],
   "source": [
    "drug_ind_dict = load_pickle(drug_ind_path)\n",
    "len(drug_ind_dict)"
   ]
  },
  {
   "cell_type": "markdown",
   "metadata": {},
   "source": [
    "# Convert dict to df"
   ]
  },
  {
   "cell_type": "code",
   "execution_count": 32,
   "metadata": {
    "ExecuteTime": {
     "end_time": "2020-03-09T09:24:45.903929Z",
     "start_time": "2020-03-09T09:24:45.783150Z"
    }
   },
   "outputs": [
    {
     "data": {
      "text/plain": [
       "[('DB00412', 'DBCOND0029752', 'Type 2 Diabetes Mellitus'),\n",
       " ('DB00485', 'DBCOND0015480', 'Animal bite'),\n",
       " ('DB00485', 'DBCOND0000235', 'Impetigo'),\n",
       " ('DB00485', 'DBCOND0021394', 'Infection caused by staphylococci'),\n",
       " ('DB00294', 'DBCOND0020891', 'Contraception'),\n",
       " ('DB00294', 'DBCOND0024304', 'Contraceptive implant therapy'),\n",
       " ('DB00006', 'DBCOND0034735', 'Acute Coronary Syndromes (ACS)'),\n",
       " ('DB00006', 'DBCOND0094088', 'Thrombotic events'),\n",
       " ('DB09526', 'DBCOND0023820', 'Melasma'),\n",
       " ('DB09526', 'DBCOND0025747', 'Moderate Melasma'),\n",
       " ('DB09526', 'DBCOND0025746', 'Severe Melasma'),\n",
       " ('DB04335', 'DBCOND0093803', 'Rejuvenation of a unit of RBC'),\n",
       " ('DB09280', 'DBCOND0040212', 'Cystic Fibrosis (CF)'),\n",
       " ('DB01193', 'DBCOND0075514', 'Chronic Stable Angina Pectoris'),\n",
       " ('DB01193', 'DBCOND0040789', 'High Blood Pressure (Hypertension)'),\n",
       " ('DB01193', 'DBCOND0102378', 'Arrhythmia of ventricular origin'),\n",
       " ('DB01337', 'DBCOND0024487', 'Adjunct to general anesthesia therapy'),\n",
       " ('DB01337',\n",
       "  'DBCOND0022943',\n",
       "  'Facilitation of small bowel intubation therapy'),\n",
       " ('DB01337',\n",
       "  'DBCOND0089476',\n",
       "  'Smooth muscle relaxation prior to radiological procedures'),\n",
       " ('DB00524', 'DBCOND0020707', 'Edema'),\n",
       " ('DB00524', 'DBCOND0035554', 'Mild Hypertension'),\n",
       " ('DB00524', 'DBCOND0021489', 'Moderate Hypertension'),\n",
       " ('DB09397', 'DBCOND0028036', 'Breast Cancer'),\n",
       " ('DB09397', 'DBCOND0107071', 'Melanoma, Malignant'),\n",
       " ('DB00489', 'DBCOND0047324', 'Atrial Fibrillation (AF)'),\n",
       " ('DB00489', 'DBCOND0092192', 'Flutter, Atrial'),\n",
       " ('DB00489', 'DBCOND0025284', 'Severe ventricular arrhythmias'),\n",
       " ('DB00581', 'DBCOND0004520', 'Constipation'),\n",
       " ('DB00581', 'DBCOND0121198', 'Hepatic Encephalopathy (HE)'),\n",
       " ('DB06203', 'DBCOND0029752', 'Type 2 Diabetes Mellitus'),\n",
       " ('DB09030', 'DBCOND0048671', 'Cardiovascular Events'),\n",
       " ('DB00715', 'DBCOND0054747', 'Generalized Anxiety Disorder (GAD)'),\n",
       " ('DB00715', 'DBCOND0030069', 'Irritable Bowel Syndrome (IBS)'),\n",
       " ('DB00715', 'DBCOND0030181', 'Major Depressive Disorder (MDD)'),\n",
       " ('DB00715', 'DBCOND0033099', 'Obsessive Compulsive Disorder (OCD)'),\n",
       " ('DB00715', 'DBCOND0032724', 'Panic Disorders'),\n",
       " ('DB00715', 'DBCOND0038601', 'Post Traumatic Stress Disorder (PTSD)'),\n",
       " ('DB00715', 'DBCOND0001304', 'Premature Ejaculation'),\n",
       " ('DB00715', 'DBCOND0005024', 'Premenstrual Dysphoric Disorder'),\n",
       " ('DB00715', 'DBCOND0033074', 'Social Anxiety Disorder (SAD)'),\n",
       " ('DB00715', 'DBCOND0035305', 'Vasomotor Symptoms'),\n",
       " ('DB00650', 'DBCOND0034287', 'Advanced Colorectal Cancer'),\n",
       " ('DB00650', 'DBCOND0029906', 'Advanced Esophageal Cancers'),\n",
       " ('DB00650', 'DBCOND0036667', 'Advanced Gastric Cancer'),\n",
       " ('DB00650', 'DBCOND0092003', 'Cancer, Bladder'),\n",
       " ('DB00650', 'DBCOND0024088', 'Folic acid antagonist overdose'),\n",
       " ('DB00650', 'DBCOND0058909', 'Pancreatic Cancer Metastatic'),\n",
       " ('DB00650', 'DBCOND0022071', 'Methotrexate toxicity'),\n",
       " ('DB00650', 'DBCOND0022074', 'Pyrimethamine hematologic toxicity'),\n",
       " ('DB00297', 'DBCOND0032167', 'Acute Gouty Arthritis'),\n",
       " ('DB00297', 'DBCOND0025987', 'Adrenal cortical hypofunctions'),\n",
       " ('DB00297', 'DBCOND0071530', 'Alopecia Areata (AA)'),\n",
       " ('DB00297', 'DBCOND0046486', 'Ankylosing Spondylitis (AS)'),\n",
       " ('DB00297', 'DBCOND0004094', 'Berylliosis'),\n",
       " ('DB00297', 'DBCOND0021259', 'Bullous dermatitis herpetiformis'),\n",
       " ('DB00297', 'DBCOND0033416', 'Congenital Adrenal Hyperplasia (CAH)'),\n",
       " ('DB00297', 'DBCOND0052431', 'Congenital Hypoplastic Anemia'),\n",
       " ('DB00297', 'DBCOND0002234', 'Dermatomyositis'),\n",
       " ('DB00297', 'DBCOND0042421', 'Discoid Lupus Erythematosus (DLE)'),\n",
       " ('DB00297', 'DBCOND0024353', 'Edema of the cerebrum'),\n",
       " ('DB00297', 'DBCOND0015538', 'Epicondylitis'),\n",
       " ('DB00297', 'DBCOND0009886', 'Eye inflammation'),\n",
       " ('DB00297', 'DBCOND0028410', 'Hemolytic Anemia'),\n",
       " ('DB00297', 'DBCOND0060499', 'Keloid Scars'),\n",
       " ('DB00297', 'DBCOND0035632', 'Leukemias'),\n",
       " ('DB00297', 'DBCOND0057197', 'Mycosis Fungoides (MF)'),\n",
       " ('DB00297', 'DBCOND0009302', 'Necrobiosis lipoidica diabeticorum'),\n",
       " ('DB00297', 'DBCOND0001140', 'Ophthalmia, Sympathetic'),\n",
       " ('DB00297', 'DBCOND0056529', 'Osteoarthritis (OA)'),\n",
       " ('DB00297', 'DBCOND0013509', 'Polymyositis'),\n",
       " ('DB00297', 'DBCOND0028320', 'Psoriatic Arthritis'),\n",
       " ('DB00297', 'DBCOND0021287', 'Psoriatic plaque'),\n",
       " ('DB00297', 'DBCOND0028424', 'Pure Red Cell Aplasia'),\n",
       " ('DB00297', 'DBCOND0053624', 'Regional Enteritis'),\n",
       " ('DB00297', 'DBCOND0027961', 'Rheumatoid Arthritis'),\n",
       " ('DB00297', 'DBCOND0021268', 'Secondary thrombocytopenia'),\n",
       " ('DB00297', 'DBCOND0001814', 'Stevens-Johnson Syndrome'),\n",
       " ('DB00297', 'DBCOND0016437', 'Synovitis'),\n",
       " ('DB00297', 'DBCOND0038683', 'Systemic Lupus Erythematosus (SLE)'),\n",
       " ('DB00297', 'DBCOND0032828', 'Temporal Arteritis'),\n",
       " ('DB00297', 'DBCOND0021269', 'Trichinosis'),\n",
       " ('DB00297', 'DBCOND0036434', 'Tuberculous Meningitis'),\n",
       " ('DB00297', 'DBCOND0029012', 'Ulcerative Colitis'),\n",
       " ('DB00297', 'DBCOND0009937', 'Uveitis'),\n",
       " ('DB00297', 'DBCOND0021949', 'Acute Bursitis'),\n",
       " ('DB00297', 'DBCOND0106428', 'Acute Idiopathic Nephrotic Syndrome'),\n",
       " ('DB00297', 'DBCOND0106435', 'Acute Lupus Erythematosus'),\n",
       " ('DB00297', 'DBCOND0021963', 'Acute Multiple sclerosis'),\n",
       " ('DB00297', 'DBCOND0021972', 'Acute Rheumatic heart disease, unspecified'),\n",
       " ('DB00297', 'DBCOND0021282', 'Acute nonspecific tenosynovitis'),\n",
       " ('DB00297', 'DBCOND0106425', 'Cancer-associated hypercalcemia'),\n",
       " ('DB00297', 'DBCOND0106432', 'Cystic tumors of aponeurosis'),\n",
       " ('DB00297', 'DBCOND0106433', 'Cystic tumors of tendon'),\n",
       " ('DB00297', 'DBCOND0106168', 'Disseminated Pulmonary Tuberculosis'),\n",
       " ('DB00297', 'DBCOND0021260', 'Exfoliative erythroderma'),\n",
       " ('DB00297', 'DBCOND0106429', 'Inflammatory lesions of granuloma annulare'),\n",
       " ('DB00297', 'DBCOND0106430', 'Inflammatory lesions of lichen planus'),\n",
       " ('DB00297', 'DBCOND0106431', 'Inflammatory lesions of lichen simplex'),\n",
       " ('DB00297', 'DBCOND0022528', 'Non-suppurative Thyroiditis'),\n",
       " ('DB00297', 'DBCOND0106424', 'Permphigus'),\n",
       " ('DB00297', 'DBCOND0106423', 'Severe Allergic Reactions'),\n",
       " ('DB00297', 'DBCOND0038422', 'Local Anesthesia'),\n",
       " ('DB00297', 'DBCOND0024312', 'Regional nerve block therapy'),\n",
       " ('DB00297', 'DBCOND0024487', 'Adjunct to general anesthesia therapy'),\n",
       " ('DB00359', 'DBCOND0001290', 'Chancroid'),\n",
       " ('DB00359', 'DBCOND0034234', 'Chlamydial Infections'),\n",
       " ('DB00359', 'DBCOND0005168', 'Conjunctivitis, Inclusion'),\n",
       " ('DB00359', 'DBCOND0020991', 'Meningitis caused by Haemophilus influenzae'),\n",
       " ('DB00359', 'DBCOND0034253', 'Meningococcal Meningitis'),\n",
       " ('DB00359', 'DBCOND0014593', 'Nocardiosis'),\n",
       " ('DB00359', 'DBCOND0000445', 'Plague'),\n",
       " ('DB00359', 'DBCOND0034555', 'Plasmodium Infections'),\n",
       " ('DB00359', 'DBCOND0013910', 'Toxoplasmosis'),\n",
       " ('DB00359', 'DBCOND0000280', 'Trachoma'),\n",
       " ('DB00359', 'DBCOND0024122', 'Urinary Tract Infection'),\n",
       " ('DB00359', 'DBCOND0060388', 'Wound Sepsis'),\n",
       " ('DB00359',\n",
       "  'DBCOND0020994',\n",
       "  'Bacterial otitis media caused by Haemophilus influenzae'),\n",
       " ('DB00359', 'DBCOND0023009', 'Prophylaxis of Rheumatic fever'),\n",
       " ('DB00359', 'DBCOND0020988', 'Recurrent Rheumatic fever'),\n",
       " ('DB09488', 'DBCOND0084837', 'Seasonal Allergic Rhinitis (SAR)'),\n",
       " ('DB00394', 'DBCOND0013565', 'Asthma'),\n",
       " ('DB00394', 'DBCOND0117152', 'Bacterial Sinusitis'),\n",
       " ('DB00394', 'DBCOND0031289', 'Chronic Obstructive Pulmonary Disease (COPD)'),\n",
       " ('DB00394', 'DBCOND0033683', 'Chronic Rhinosinusitis'),\n",
       " ('DB00394', 'DBCOND0019992', 'Dermatosis'),\n",
       " ('DB00394', 'DBCOND0058482', 'Perennial Allergic Rhinitis (PAR)'),\n",
       " ('DB00394', 'DBCOND0084837', 'Seasonal Allergic Rhinitis (SAR)'),\n",
       " ('DB00394', 'DBCOND0030942', 'Vasomotor Rhinitis'),\n",
       " ('DB00394', 'DBCOND0023771', 'Corticosteroid responsive Dermatosis'),\n",
       " ('DB00394', 'DBCOND0021089', 'Recurrent nasal polyps'),\n",
       " ('DB05016', 'DBCOND0066749', 'Duchenne&#39;s Muscular Dystrophy (DMD)'),\n",
       " ('DB06713', 'DBCOND0037449', 'Polycystic Ovarian Syndrome'),\n",
       " ('DB06713', 'DBCOND0024434', 'Transdermal contraception therapy'),\n",
       " ('DB06607', 'DBCOND0103406', 'Malignant Ascites of the intraperitoneal'),\n",
       " ('DB12371', 'DBCOND0113962', 'Relapsing multiple sclerosis (MS)'),\n",
       " ('DB11945',\n",
       "  'DBCOND0093769',\n",
       "  'Locally advanced disease has progressed during or following platinum-containing chemotherapy urothelial carcinoma (UC)'),\n",
       " ('DB11945',\n",
       "  'DBCOND0093773',\n",
       "  'Locally advanced disease has progressed within 12 months of neoadjuvant or adjuvant treatment with platinum-containing chemotherapy urothelial carcinoma (UC)'),\n",
       " ('DB11945', 'DBCOND0093764', 'Metastatic Merkel Cell Carcinoma (MCC)'),\n",
       " ('DB11945',\n",
       "  'DBCOND0093768',\n",
       "  'Metastatic disease has progressed during or following platinum-containing chemotherapy urothelial carcinoma (UC)'),\n",
       " ('DB11945',\n",
       "  'DBCOND0093772',\n",
       "  'Metastatic disease has progressed within 12 months of neoadjuvant or adjuvant treatment with platinum-containing chemotherapy urothelial carcinoma (UC)'),\n",
       " ('DB11062', 'DBCOND0005372', 'Sunburn'),\n",
       " ('DB00421', 'DBCOND0019842', 'Acne'),\n",
       " ('DB00421', 'DBCOND0004927', 'Ascites'),\n",
       " ('DB00421', 'DBCOND0029751', 'Congestive Heart Failure'),\n",
       " ('DB00421', 'DBCOND0020707', 'Edema'),\n",
       " ('DB00421', 'DBCOND0040789', 'High Blood Pressure (Hypertension)'),\n",
       " ('DB00421', 'DBCOND0004744', 'Hirsutism'),\n",
       " ('DB00421', 'DBCOND0003942', 'Hypokalemia'),\n",
       " ('DB00421', 'DBCOND0001361', 'Nephrotic Syndrome'),\n",
       " ('DB00421', 'DBCOND0041635', 'Primary Hyperaldosteronism'),\n",
       " ('DB00421',\n",
       "  'DBCOND0025715',\n",
       "  'Chronic heart failure with reduced ejection fraction (NYHA Class III)'),\n",
       " ('DB00421',\n",
       "  'DBCOND0025716',\n",
       "  'Chronic heart failure with reduced ejection fraction (NYHA Class IV)'),\n",
       " ('DB00421', 'DBCOND0021152', 'Idiopathic hyperaldosteronism'),\n",
       " ('DB00068', 'DBCOND0036413', 'Relapsing Remitting Multiple Sclerosis (RRMS)'),\n",
       " ('DB00068',\n",
       "  'DBCOND0049960',\n",
       "  'Secondary Progressive Multiple Sclerosis (SPMS)'),\n",
       " ('DB00396', 'DBCOND0039070', 'Abnormal Uterine Bleeding'),\n",
       " ('DB00396', 'DBCOND0005025', 'Amenorrhea'),\n",
       " ('DB00396',\n",
       "  'DBCOND0021097',\n",
       "  'Endometrial hyperplasia caused by conjugated estrogen'),\n",
       " ('DB00396', 'DBCOND0031380', 'Female Infertility'),\n",
       " ('DB00396', 'DBCOND0018394', 'Pregnancy'),\n",
       " ('DB00396', 'DBCOND0032020', 'Secondary Amenorrhea'),\n",
       " ('DB00396', 'DBCOND0021100', 'Recurrent spontaneous preterm birth'),\n",
       " ('DB00396', 'DBCOND0116550', 'Assisted Reproductive Techniques (ART)'),\n",
       " ('DB00396', 'DBCOND0020337', 'Assisted Reproductive Technology therapy'),\n",
       " ('DB00405', 'DBCOND0053380', 'Allergic Rhinitis (AR)'),\n",
       " ('DB00405',\n",
       "  'DBCOND0024669',\n",
       "  'Upper respiratory tract hypersensitivity reaction, site unspecified'),\n",
       " ('DB11767', 'DBCOND0023311', 'Moderate, active Rheumatoid arthritis'),\n",
       " ('DB11767', 'DBCOND0020226', 'Severe, active Rheumatoid arthritis'),\n",
       " ('DB01202', 'DBCOND0035279', 'Epilepsies'),\n",
       " ('DB01202', 'DBCOND0021730', 'Grand mal Generalized tonic-clonic seizure'),\n",
       " ('DB01202', 'DBCOND0032900', 'Partial-Onset Seizures'),\n",
       " ('DB01202', 'DBCOND0022716', 'Myoclonic seizures'),\n",
       " ('DB11632', 'DBCOND0053495', 'Parkinson&#39;s Disease (PD)'),\n",
       " ('DB06754',\n",
       "  'DBCOND0093560',\n",
       "  'Deep Vein Thrombosis caused by Major Abdominal Surgery'),\n",
       " ('DB06754',\n",
       "  'DBCOND0093559',\n",
       "  'Deep Vein Thrombosis caused by Orthopedic Surgery'),\n",
       " ('DB06754',\n",
       "  'DBCOND0093561',\n",
       "  'Deep Vein Thrombosis caused by Thoracic Surgery'),\n",
       " ('DB06754',\n",
       "  'DBCOND0020245',\n",
       "  'Cardiac surgery, heparin-induced thrombocytopenia and thrombosis syndrome'),\n",
       " ('DB06754', 'DBCOND0093562', 'Non-hemorrhagic stroke'),\n",
       " ('DB00554', 'DBCOND0046486', 'Ankylosing Spondylitis (AS)'),\n",
       " ('DB00554', 'DBCOND0056529', 'Osteoarthritis (OA)'),\n",
       " ('DB00554', 'DBCOND0027961', 'Rheumatoid Arthritis'),\n",
       " ('DB10338', 'DBCOND0106299', 'Active Pneumococcal Infection'),\n",
       " ('DB00643', 'DBCOND0022064', 'Ancylostoma caninum infection'),\n",
       " ('DB00643', 'DBCOND0022060', 'Ancylostoma duodenale infection'),\n",
       " ('DB00643', 'DBCOND0021877', 'Ascaris lumbricoides infection'),\n",
       " ('DB00643', 'DBCOND0014311', 'Capillariasis'),\n",
       " ('DB00643', 'DBCOND0022058', 'Enterobius vermicularis infection'),\n",
       " ('DB00643', 'DBCOND0009884', 'Filariasis'),\n",
       " ('DB00643', 'DBCOND0000918', 'Giardiasis'),\n",
       " ('DB00643', 'DBCOND0022061', 'Necatoriasis due to necator americanus'),\n",
       " ('DB00643', 'DBCOND0051061', 'Strongyloides Stercoralis Infection'),\n",
       " ('DB00643', 'DBCOND0025130', 'Taenia solium infection'),\n",
       " ('DB00643', 'DBCOND0009840', 'Toxocariasis'),\n",
       " ('DB00643', 'DBCOND0022059', 'Whipworm infection'),\n",
       " ('DB00050', 'DBCOND0041186', 'Controlled Ovarian Stimulation'),\n",
       " ('DB06410', 'DBCOND0033035', 'Hyperparathyroidism, Secondary'),\n",
       " ('DB08899',\n",
       "  'DBCOND0036665',\n",
       "  'Metastatic Castration Resistant Prostate Cancer'),\n",
       " ('DB00115', 'DBCOND0004065', 'Anemia, Pernicious'),\n",
       " ('DB00115', 'DBCOND0034596', 'Vitamin B12 Deficiency'),\n",
       " ('DB00115', 'DBCOND0117813', 'Vitamin B12 concentration'),\n",
       " ('DB13257', 'DBCOND0047602', 'Iron Deficiency Anemia (IDA)'),\n",
       " ('DB05541', 'DBCOND0032900', 'Partial-Onset Seizures'),\n",
       " ('DB00707', 'DBCOND0045726', 'Esophageal Cancers'),\n",
       " ('DB00707', 'DBCOND0074232', 'Esophagus, Barrett'),\n",
       " ('DB00707',\n",
       "  'DBCOND0022196',\n",
       "  'Completely obstructive Non-small cell lung cancer'),\n",
       " ('DB00707',\n",
       "  'DBCOND0022194',\n",
       "  'Microinvasive endobrachial Non-small cell lung cancer'),\n",
       " ('DB00707',\n",
       "  'DBCOND0022198',\n",
       "  'Partially obstructive Non-small cell lung cancer'),\n",
       " ('DB00775', 'DBCOND0048671', 'Cardiovascular Events'),\n",
       " ('DB00472', 'DBCOND0027943', 'Alcohol Dependence'),\n",
       " ('DB00472', 'DBCOND0052289', 'Anorexia Nervosa (AN)'),\n",
       " ('DB00472', 'DBCOND0023881', 'BMI &gt;30 kg/m2'),\n",
       " ('DB00472', 'DBCOND0006074', 'Bulimia Nervosa'),\n",
       " ('DB00472', 'DBCOND0003367', 'Cataplexy'),\n",
       " ('DB00472', 'DBCOND0030402', 'Depression, Bipolar'),\n",
       " ('DB00472', 'DBCOND0030181', 'Major Depressive Disorder (MDD)'),\n",
       " ('DB00472', 'DBCOND0017788', 'Myoclonus'),\n",
       " ('DB00472', 'DBCOND0033099', 'Obsessive Compulsive Disorder (OCD)'),\n",
       " ('DB00472', 'DBCOND0058353', 'Panic Disorder (With or Without Agoraphobia)'),\n",
       " ('DB00472', 'DBCOND0001304', 'Premature Ejaculation'),\n",
       " ('DB00472', 'DBCOND0005024', 'Premenstrual Dysphoric Disorder'),\n",
       " ('DB00472', 'DBCOND0041916', 'Treatment Resistant Depression (TRD)'),\n",
       " ('DB00276', 'DBCOND0091792', 'Leukemia, Acute'),\n",
       " ('DB00276', 'DBCOND0043073', 'Refractory Leukemia'),\n",
       " ('DB04911',\n",
       "  'DBCOND0047801',\n",
       "  'Skin and Subcutaneous Tissue Bacterial Infections'),\n",
       " ('DB00484', 'DBCOND0074237', 'Ocular Hypertension'),\n",
       " ('DB00484', 'DBCOND0096893', 'Facial erythema'),\n",
       " ('DB00308', 'DBCOND0047324', 'Atrial Fibrillation (AF)'),\n",
       " ('DB00308', 'DBCOND0092192', 'Flutter, Atrial'),\n",
       " ('DB00908', 'DBCOND0077970', 'Atrial Fibrillation or Flutter'),\n",
       " ('DB00908', 'DBCOND0021343', 'Malaria caused by Plasmodium falciparum'),\n",
       " ('DB00908', 'DBCOND0022436', 'Pseudobulbar affect'),\n",
       " ('DB00908', 'DBCOND0102378', 'Arrhythmia of ventricular origin'),\n",
       " ('DB00402', 'DBCOND0017531', 'Insomnia'),\n",
       " ('DB06698', 'DBCOND0066647', 'Menière&#39;s Disease'),\n",
       " ('DB00244', 'DBCOND0052193', 'Crohn&#39;s Disease (CD)'),\n",
       " ('DB00244', 'DBCOND0122484', 'Proctitis, Ulcerative'),\n",
       " ('DB00244', 'DBCOND0020742', 'Proctosigmoiditis'),\n",
       " ('DB00244', 'DBCOND0029012', 'Ulcerative Colitis'),\n",
       " ('DB01192', 'DBCOND0018828', 'Anxiety'),\n",
       " ('DB01192', 'DBCOND0066540', 'Severe Pain'),\n",
       " ('DB01192', 'DBCOND0020636', 'Moderate Pain'),\n",
       " ('DB01192', 'DBCOND0024220', 'Perioperative analgesia'),\n",
       " ('DB01192', 'DBCOND0024475', 'Obstetrical analgesia therapy'),\n",
       " ('DB10336', 'DBCOND0106299', 'Active Pneumococcal Infection'),\n",
       " ('DB11827', 'DBCOND0029752', 'Type 2 Diabetes Mellitus'),\n",
       " ('DB09027', 'DBCOND0053690', 'Chronic Hepatitis C Genotype 1'),\n",
       " ('DB09027', 'DBCOND0023725', 'Chronic hepatitis C genotype 4'),\n",
       " ('DB09027', 'DBCOND0024500', 'Chronic hepatitis C genotype 5'),\n",
       " ('DB09027', 'DBCOND0023526', 'Genotype 6 chronic hepatitis C infection'),\n",
       " ('DB10343',\n",
       "  'DBCOND0093710',\n",
       "  'Ta papillary tumors following transurethral resection'),\n",
       " ('DB10343', 'DBCOND0053683', 'Tuberculosis Infection'),\n",
       " ('DB10343', 'DBCOND0093708', 'Carcinoma in situ of the urinary bladder'),\n",
       " ('DB10343',\n",
       "  'DBCOND0093711',\n",
       "  'Stage T1 papillary tumors following transurethral resection'),\n",
       " ('DB00367', 'DBCOND0028470', 'Endometrial Cancer'),\n",
       " ('DB00367', 'DBCOND0001317', 'Endometrial Hyperplasia'),\n",
       " ('DB00367', 'DBCOND0001340', 'Endometriosis'),\n",
       " ('DB00367', 'DBCOND0052994', 'Hypermenorrhea'),\n",
       " ('DB00367', 'DBCOND0066876', 'Postmenopausal Osteoporosis (PMO)'),\n",
       " ('DB00367', 'DBCOND0018394', 'Pregnancy'),\n",
       " ('DB00367', 'DBCOND0023177', 'Moderate vasomotor symptoms'),\n",
       " ('DB00367', 'DBCOND0023178', 'Severe vasomotor symptoms'),\n",
       " ('DB00367', 'DBCOND0033839', 'Emergency Contraception'),\n",
       " ('DB00367', 'DBCOND0105499', 'Hormone Therapy'),\n",
       " ('DB00549', 'DBCOND0013565', 'Asthma'),\n",
       " ('DB00549', 'DBCOND0037544', 'Chronic Urticaria'),\n",
       " ('DB00186', 'DBCOND0017779', 'Agitation'),\n",
       " ('DB00186', 'DBCOND0003708', 'Alcohol Withdrawal Delirium'),\n",
       " ('DB00186', 'DBCOND0033368', 'Alcohol Withdrawal Syndrome(AWS)'),\n",
       " ('DB00186', 'DBCOND0018828', 'Anxiety'),\n",
       " ('DB00186', 'DBCOND0027904', 'Anxiety Disorders'),\n",
       " ('DB00186', 'DBCOND0003718', 'Catatonia'),\n",
       " ('DB00186',\n",
       "  'DBCOND0039365',\n",
       "  'Chemotherapy-Induced Nausea and Vomiting (CINV)'),\n",
       " ('DB00186', 'DBCOND0003735', 'Delirium'),\n",
       " ('DB00186', 'DBCOND0017531', 'Insomnia'),\n",
       " ('DB00186', 'DBCOND0053860', 'Muscle Spasms'),\n",
       " ('DB00186', 'DBCOND0032724', 'Panic Disorders'),\n",
       " ('DB00186', 'DBCOND0022505', 'Refractory seizure disorders'),\n",
       " ('DB00186', 'DBCOND0021898', 'Preanesthetic medication therapy'),\n",
       " ('DB00838', 'DBCOND0019992', 'Dermatosis'),\n",
       " ('DB00310', 'DBCOND0036164', 'Calcium Nephrolithiasis'),\n",
       " ('DB11817', 'DBCOND0023311', 'Moderate, active Rheumatoid arthritis'),\n",
       " ('DB11817', 'DBCOND0020226', 'Severe, active Rheumatoid arthritis'),\n",
       " ('DB14724',\n",
       "  'DBCOND0115968',\n",
       "  'Progressive, refractory, primary intolerance with conventional therapy, recurrent Hemophagocytic Lymphohistiocytosis'),\n",
       " ('DB06643', 'DBCOND0031952', 'Bone Loss'),\n",
       " ('DB06643', 'DBCOND0016497', 'Bone pain'),\n",
       " ('DB06643', 'DBCOND0078810', 'Fracture Bone'),\n",
       " ('DB06643', 'DBCOND0003439', 'Spinal Cord Compression'),\n",
       " ('DB06643', 'DBCOND0025622', 'Bone destruction'),\n",
       " ('DB06643', 'DBCOND0023310', 'Giant cell tumor of the bone'),\n",
       " ('DB06643', 'DBCOND0025619', 'High risk of fracture Osteoporosis'),\n",
       " ('DB06643', 'DBCOND0023306', 'Refractory Hypercalcemia of malignancy'),\n",
       " ('DB11226', 'DBCOND0005372', 'Sunburn'),\n",
       " ('DB13886', 'DBCOND0093856', 'Cytomegalovirus viremia'),\n",
       " ('DB14783',\n",
       "  'DBCOND0118749',\n",
       "  'Active secondary progressive Multiple Sclerosis'),\n",
       " ('DB14783', 'DBCOND0062611', 'Clinically Isolated Syndrome (CIS)'),\n",
       " ('DB14783', 'DBCOND0036413', 'Relapsing Remitting Multiple Sclerosis (RRMS)'),\n",
       " ('DB00559',\n",
       "  'DBCOND0021025',\n",
       "  'NYHA Functional Class II-IV Pulmonary arterial hypertension'),\n",
       " ('DB01016', 'DBCOND0043991', 'Gestational Diabetes Mellitus (GDM)'),\n",
       " ('DB01016', 'DBCOND0033981', 'Glycemic Control'),\n",
       " ('DB01016', 'DBCOND0029752', 'Type 2 Diabetes Mellitus'),\n",
       " ('DB13905', 'DBCOND0093894', 'Venom poisoning caused by Scoprion'),\n",
       " ('DB08820', 'DBCOND0040212', 'Cystic Fibrosis (CF)'),\n",
       " ('DB05276', 'DBCOND0101698', 'Reactivation of hepatitis B virus infection'),\n",
       " ('DB05276', 'DBCOND0025811', 'Post-exposure prophylaxis of hepatitis B'),\n",
       " ('DB09281', 'DBCOND0023031', 'Acid indigestion'),\n",
       " ('DB09281', 'DBCOND0004515', 'Heartburn'),\n",
       " ('DB09281', 'DBCOND0023032', 'Upset stomach'),\n",
       " ('DB06292', 'DBCOND0029752', 'Type 2 Diabetes Mellitus'),\n",
       " ('DB00575',\n",
       "  'DBCOND0036220',\n",
       "  'Attention Deficit Disorder With Hyperactivity (ADHD)'),\n",
       " ('DB00575', 'DBCOND0041089', 'Gilles de la Tourette&#39;s Syndrome'),\n",
       " ('DB00575', 'DBCOND0040789', 'High Blood Pressure (Hypertension)'),\n",
       " ('DB00575', 'DBCOND0029798', 'Hot Flushes'),\n",
       " ('DB00575', 'DBCOND0051106', 'Human Growth Hormone Deficiency'),\n",
       " ('DB00575', 'DBCOND0025068', 'Opiate withdrawal symptoms'),\n",
       " ('DB00575', 'DBCOND0032311', 'Oppositional Defiant Disorder'),\n",
       " ('DB00575', 'DBCOND0071316', 'Pheochromocytomas'),\n",
       " ('DB00575', 'DBCOND0029450', 'Postherpetic Neuralgia'),\n",
       " ('DB00575', 'DBCOND0021809', 'Sialorrhea caused by clozapine'),\n",
       " ('DB00575', 'DBCOND0021810', 'Diabetic diarrhea'),\n",
       " ('DB00575', 'DBCOND0021815', 'Methadone withdrawal'),\n",
       " ('DB00575', 'DBCOND0021807', 'Severe Cancer pain'),\n",
       " ('DB00575', 'DBCOND0063508', 'Cessation, Smoking'),\n",
       " ('DB00951', 'DBCOND0050152', 'Active Tuberculosis'),\n",
       " ('DB00951', 'DBCOND0013998', 'Mycobacterium kansasii infection'),\n",
       " ('DB00951', 'DBCOND0025407', 'Late phase Tuberculosis'),\n",
       " ('DB01162', 'DBCOND0033444', 'Benign Prostatic Hyperplasia (BPH)'),\n",
       " ('DB01162', 'DBCOND0040789', 'High Blood Pressure (Hypertension)'),\n",
       " ('DB01162', 'DBCOND0072914', 'Ureteral Calculus'),\n",
       " ('DB09265', 'DBCOND0029752', 'Type 2 Diabetes Mellitus'),\n",
       " ('DB13883', 'DBCOND0093854', 'Venom poisoning caused by Micrurus fulvius'),\n",
       " ('DB00594', 'DBCOND0004927', 'Ascites'),\n",
       " ('DB00594', 'DBCOND0036164', 'Calcium Nephrolithiasis'),\n",
       " ('DB00594', 'DBCOND0029751', 'Congestive Heart Failure'),\n",
       " ('DB00594', 'DBCOND0040789', 'High Blood Pressure (Hypertension)'),\n",
       " ('DB00594', 'DBCOND0003942', 'Hypokalemia'),\n",
       " ('DB00594', 'DBCOND0055468', 'Metabolic Alkalosis'),\n",
       " ('DB00594', 'DBCOND0001413', 'Polyuria'),\n",
       " ('DB10340', 'DBCOND0106299', 'Active Pneumococcal Infection'),\n",
       " ('DB04948', 'DBCOND0110726', 'Abrupt opioid withdrawal'),\n",
       " ('DB01577',\n",
       "  'DBCOND0036220',\n",
       "  'Attention Deficit Disorder With Hyperactivity (ADHD)'),\n",
       " ('DB01577', 'DBCOND0017525', 'Narcolepsy'),\n",
       " ('DB01577', 'DBCOND0023117', 'Refractory exogenous obesity'),\n",
       " ('DB13501', 'DBCOND0031436', 'Allergic Contact Dermatitis'),\n",
       " ('DB13501', 'DBCOND0001983', 'Cheilitis'),\n",
       " ('DB13501', 'DBCOND0051517', 'Dermatitis, Chronic'),\n",
       " ('DB13501', 'DBCOND0039390', 'Dermatitis, Contact'),\n",
       " ('DB13501', 'DBCOND0014081', 'Dermo-hypodermitis'),\n",
       " ('DB13501', 'DBCOND0083883', 'Eczema, Dermatitis'),\n",
       " ('DB13501', 'DBCOND0115932', 'Erythrodermics'),\n",
       " ('DB13501', 'DBCOND0019183', 'Genital erythema'),\n",
       " ('DB13501', 'DBCOND0023358', 'Hives'),\n",
       " ('DB13501', 'DBCOND0067243', 'Inflammatory Reaction'),\n",
       " ('DB13501', 'DBCOND0042295', 'Insect Bites'),\n",
       " ('DB13501', 'DBCOND0115933', 'Intertrigini'),\n",
       " ('DB13501', 'DBCOND0019922', 'Lichenification'),\n",
       " ('DB13501', 'DBCOND0115931', 'Milk crust'),\n",
       " ('DB13501', 'DBCOND0005736', 'Neurodermatitis'),\n",
       " ('DB13501', 'DBCOND0011595', 'Perianal erythema'),\n",
       " ('DB13501', 'DBCOND0013339', 'Psoriasis'),\n",
       " ('DB13501', 'DBCOND0005427', 'Radiodermatitis'),\n",
       " ('DB13501', 'DBCOND0036095', 'Seborrheic Dermatitis'),\n",
       " ('DB13501', 'DBCOND0019983', 'Skin fissures'),\n",
       " ('DB13501', 'DBCOND0115935', 'Solar erythema'),\n",
       " ('DB13501', 'DBCOND0115930', 'Vasculopathic dermatitis'),\n",
       " ('DB13501', 'DBCOND0101135', 'Cutaneous ulcers'),\n",
       " ('DB13501', 'DBCOND0102772', 'Dyshidrosis'),\n",
       " ('DB13501', 'DBCOND0115928', 'Mild, moderate Cataracts'),\n",
       " ('DB13501', 'DBCOND0023151', 'Minor burns'),\n",
       " ('DB13501', 'DBCOND0098757', 'Photodermatitis'),\n",
       " ('DB08918', 'DBCOND0030181', 'Major Depressive Disorder (MDD)'),\n",
       " ('DB00204', 'DBCOND0020681', 'Symptomatic Atrial flutter'),\n",
       " ('DB00204', 'DBCOND0112202', 'Symptomatic, recurrent Atrial Fibrillation'),\n",
       " ('DB01378', 'DBCOND0077565', 'Dietary and Nutritional Therapies'),\n",
       " ('DB01270', 'DBCOND0060562', 'Diabetic Macular Edema (DME)'),\n",
       " ('DB01270', 'DBCOND0118126', 'Diabetic Retinopathy (DR)'),\n",
       " ('DB01270', 'DBCOND0001204', 'Macular Edema'),\n",
       " ('DB01270', 'DBCOND0043958', 'Subfoveal Choroidal Neovascularization'),\n",
       " ('DB01270', 'DBCOND0031080', 'Wet Age-Related Macular Degeneration'),\n",
       " ('DB09050', 'DBCOND0071663', 'Hospital Acquired Bacterial Pneumonia'),\n",
       " ('DB09050', 'DBCOND0073596', 'Ventilator Associated Bacterial Pneumonia'),\n",
       " ('DB09050',\n",
       "  'DBCOND0025367',\n",
       "  'Complicated Bacterial Urinary Tract Infections'),\n",
       " ('DB09050', 'DBCOND0025550', 'Complicated Pyelonephritis'),\n",
       " ('DB09050',\n",
       "  'DBCOND0025548',\n",
       "  'Complicated intra-abdominal bacterial infections'),\n",
       " ('DB09511', 'DBCOND0032536', 'Malignant Pleural Effusions'),\n",
       " ('DB09398', 'DBCOND0023631', 'Altered osteogenesis'),\n",
       " ('DB09398', 'DBCOND0024042', 'Altered osteogenic activity'),\n",
       " ('DB11660', 'DBCOND0021121', 'Increased intraocular pressure'),\n",
       " ('DB01088',\n",
       "  'DBCOND0025753',\n",
       "  'NYHA class III Pulmonary arterial hypertension'),\n",
       " ('DB01088', 'DBCOND0025754', 'NYHA class IV Pulmonary arterial hypertension'),\n",
       " ('DB01281', 'DBCOND0025507', 'Moderate Juvenile idiopathic arthritis'),\n",
       " ('DB01281', 'DBCOND0020318', 'Moderate Rheumatoid arthritis'),\n",
       " ('DB01281', 'DBCOND0025506', 'Severe Juvenile idiopathic arthritis'),\n",
       " ('DB01281', 'DBCOND0020317', 'Severe Rheumatoid arthritis'),\n",
       " ('DB06186', 'DBCOND0032596', 'Advanced Renal Cell Carcinoma'),\n",
       " ('DB06186', 'DBCOND0040978', 'Cutaneous Melanoma'),\n",
       " ('DB06186', 'DBCOND0030058', 'Metastatic Melanoma'),\n",
       " ('DB06186', 'DBCOND0047213', 'Unresectable Melanoma'),\n",
       " ('DB06186', 'DBCOND0112640', 'Metastatic MSI-H/dMMR colorectal cancer'),\n",
       " ('DB11757', 'DBCOND0053495', 'Parkinson&#39;s Disease (PD)'),\n",
       " ('DB08938', 'DBCOND0023031', 'Acid indigestion'),\n",
       " ('DB08938', 'DBCOND0019548', 'Aspiration'),\n",
       " ('DB08938', 'DBCOND0023055', 'Bloating'),\n",
       " ('DB08938', 'DBCOND0012364', 'Calcinosis'),\n",
       " ('DB08938', 'DBCOND0030390', 'Gastroesophageal Reflux'),\n",
       " ('DB08938', 'DBCOND0036119', 'Gastrointestinal Bleeding'),\n",
       " ('DB08938', 'DBCOND0004515', 'Heartburn'),\n",
       " ('DB08938', 'DBCOND0093830', 'Hyperacidity'),\n",
       " ('DB08938', 'DBCOND0009085', 'Hyperparathyroidism'),\n",
       " ('DB08938', 'DBCOND0032121', 'Kidney Stones'),\n",
       " ('DB08938', 'DBCOND0031497', 'Peptic Ulcer'),\n",
       " ('DB08938', 'DBCOND0023344', 'Sour stomach'),\n",
       " ('DB08938', 'DBCOND0074522', 'Stress Ulcers'),\n",
       " ('DB00296', 'DBCOND0069560', 'Pain, Acute'),\n",
       " ('DB00296', 'DBCOND0038422', 'Local Anesthesia'),\n",
       " ('DB00296', 'DBCOND0024487', 'Adjunct to general anesthesia therapy'),\n",
       " ('DB00296', 'DBCOND0022853', 'Caudal epidural block therapy'),\n",
       " ('DB00296', 'DBCOND0024468', 'Lumbar epidural anesthesia therapy'),\n",
       " ('DB09105', 'DBCOND0023586', 'Infantile-onset Hypophosphatasia'),\n",
       " ('DB09105', 'DBCOND0023582', 'Juvenile-onset Hypophosphatasia'),\n",
       " ('DB09105', 'DBCOND0023584', 'Perinatal-onset Hypophosphatasia'),\n",
       " ('DB00998', 'DBCOND0049607', 'Menstrual Migraines'),\n",
       " ('DB00998', 'DBCOND0031385', 'Migraine With Aura'),\n",
       " ('DB00998', 'DBCOND0031386', 'Migraine Without Aura'),\n",
       " ('DB12924', 'DBCOND0000235', 'Impetigo'),\n",
       " ('DB09052',\n",
       "  'DBCOND0092221',\n",
       "  'Precursor B-Lymphoblastic Lymphoma/Leukaemia Refractory'),\n",
       " ('DB09052',\n",
       "  'DBCOND0025682',\n",
       "  'Relapsed B cell precursor Acute lymphoblastic leukemia'),\n",
       " ('DB00248', 'DBCOND0020755', 'Idiopathic hyperprolactinemic disorder'),\n",
       " ('DB00248', 'DBCOND0020757', 'Inhibition of physiological lactation'),\n",
       " ('DB09330', 'DBCOND0043377', 'Metastatic Non-Small Cell Lung Cancer'),\n",
       " ('DB13161', 'DBCOND0058632', 'Spinal Muscular Atrophy (SMA)'),\n",
       " ('DB00293', 'DBCOND0034287', 'Advanced Colorectal Cancer'),\n",
       " ('DB00293', 'DBCOND0029910', 'Pleural Mesotheliomas'),\n",
       " ('DB00252', 'DBCOND0036406', 'Complex Partial Seizures'),\n",
       " ('DB00252', 'DBCOND0021730', 'Grand mal Generalized tonic-clonic seizure'),\n",
       " ('DB00252', 'DBCOND0024115', 'Seizures'),\n",
       " ('DB00252', 'DBCOND0047391', 'Status; Epilepticus, Tonic-clonic'),\n",
       " ('DB00557', 'DBCOND0018828', 'Anxiety'),\n",
       " ('DB00557', 'DBCOND0028521', 'Nausea and vomiting'),\n",
       " ('DB00557', 'DBCOND0019903', 'Pruritus'),\n",
       " ('DB00213',\n",
       "  'DBCOND0055408',\n",
       "  'Bacterial Infection Due to Helicobacter Pylori (H. Pylori)'),\n",
       " ('DB00213', 'DBCOND0112996', 'Erosive Esophagitis (EE)'),\n",
       " ('DB00213', 'DBCOND0033211', 'GERD With Erosive Esophagitis'),\n",
       " ('DB00213', 'DBCOND0077290', 'Gastro-esophageal Reflux Disease (GERD)'),\n",
       " ('DB00213', 'DBCOND0041138', 'Healing'),\n",
       " ('DB00213', 'DBCOND0074522', 'Stress Ulcers'),\n",
       " ('DB00213', 'DBCOND0000825', 'Zollinger-Ellison Syndrome'),\n",
       " ('DB00213',\n",
       "  'DBCOND0117234',\n",
       "  'Conditions where a reduction of gastric acid secretion is required'),\n",
       " ('DB00213', 'DBCOND0022462', 'Pathological hypersecretory conditions'),\n",
       " ('DB00807', 'DBCOND0038422', 'Local Anesthesia'),\n",
       " ('DB01213', 'DBCOND0022929', 'Ethylene glycol poisoning'),\n",
       " ('DB01213', 'DBCOND0022930', 'Methanol poisoning'),\n",
       " ('DB01601',\n",
       "  'DBCOND0045921',\n",
       "  'Human Immunodeficiency Virus Type 1 (HIV-1) Infection'),\n",
       " ('DB00540', 'DBCOND0030069', 'Irritable Bowel Syndrome (IBS)'),\n",
       " ('DB00540', 'DBCOND0030181', 'Major Depressive Disorder (MDD)'),\n",
       " ('DB00540', 'DBCOND0042349', 'Myofascial Pain Syndrome'),\n",
       " ('DB00540', 'DBCOND0030075', 'Orofacial Pain'),\n",
       " ('DB00540', 'DBCOND0056178', 'Pain, Chronic'),\n",
       " ('DB00540', 'DBCOND0051119', 'Post-Herpetic Neuralgia (PHN)'),\n",
       " ('DB00624', 'DBCOND0048343', 'Hypergonadotropic Hypogonadism'),\n",
       " ('DB00624', 'DBCOND0031606', 'Hypogonadotrophic Hypogonadism'),\n",
       " ('DB00624', 'DBCOND0037480', 'Idiopathic Hypogonadotropic Hypogonadism'),\n",
       " ('DB00624', 'DBCOND0001010', 'Puberty, Delayed'),\n",
       " ('DB00624', 'DBCOND0021988', 'Inoperable, metastatic Breast cancer'),\n",
       " ('DB11621', 'DBCOND0059021', 'Varicella Zoster Virus Infection'),\n",
       " ('DB08604', 'DBCOND0068550', 'Dental Cavity'),\n",
       " ('DB08604', 'DBCOND0010261', 'Gingivitis'),\n",
       " ('DB08604', 'DBCOND0092704', 'Plaque, Dental'),\n",
       " ('DB08604', 'DBCOND0025667', 'Antibacterial'),\n",
       " ('DB08604', 'DBCOND0025349', 'Antibiotic pre-surgical prophylaxis therapy'),\n",
       " ('DB08909', 'DBCOND0023710', 'Deficiencies in enzymes of the urea cycle'),\n",
       " ('DB00523', 'DBCOND0109682', 'Chronic Eczema of the hand'),\n",
       " ('DB00523', 'DBCOND0021486', 'Cutaneous lesions'),\n",
       " ('DB00523', 'DBCOND0093522', 'Refractory Eczema of the hand'),\n",
       " ('DB00523', 'DBCOND0109683', 'Severe Eczema of the hand'),\n",
       " ('DB00898', 'DBCOND0027917', 'Bacterial Infections'),\n",
       " ('DB00898', 'DBCOND0068622', 'Hypertrophic Obstructive Cardiomyopathy'),\n",
       " ('DB00898', 'DBCOND0022418', 'Ethylene glycol overdose'),\n",
       " ('DB00898', 'DBCOND0022419', 'Fat occlusion in central venous catheter'),\n",
       " ('DB00898', 'DBCOND0022421', 'Methanol overdose'),\n",
       " ('DB09414', 'DBCOND0025176', 'Fluid replacement'),\n",
       " ('DB09414', 'DBCOND0023768', 'Total parenteral nutrition therapy'),\n",
       " ('DB09414', 'DBCOND0025145', 'Urine alkalinization therapy'),\n",
       " ('DB10333', 'DBCOND0106299', 'Active Pneumococcal Infection'),\n",
       " ('DB10300',\n",
       "  'DBCOND0093636',\n",
       "  'Infection caused by human papillomavirus type 11'),\n",
       " ('DB11581', 'DBCOND0050885', 'Chronic Lymphocytic Leukaemia (CLL)'),\n",
       " ('DB11581', 'DBCOND0023538', 'Small Lymphocytic Lymphoma'),\n",
       " ('DB00820', 'DBCOND0033444', 'Benign Prostatic Hyperplasia (BPH)'),\n",
       " ('DB00820', 'DBCOND0029956', 'Erectile Dysfunction'),\n",
       " ('DB00820', 'DBCOND0039281', 'Pulmonary Arterial Hypertension (PAH)'),\n",
       " ('DB00442', 'DBCOND0060842', 'Hepatitis B Chronic Infection'),\n",
       " ('DB00847', 'DBCOND0081940', 'Cystinosis, Nephropathic'),\n",
       " ('DB00847', 'DBCOND0022379', 'Corneal cystine crystal accumulation'),\n",
       " ('DB14006', 'DBCOND0024398', 'Coughing'),\n",
       " ('DB14006', 'DBCOND0039783', 'Fevers'),\n",
       " ('DB14006', 'DBCOND0017979', 'Headache'),\n",
       " ('DB14006', 'DBCOND0035647', 'Nasal Congestion'),\n",
       " ('DB14006', 'DBCOND0022396', 'Phlegm'),\n",
       " ('DB14006', 'DBCOND0033906', 'Sore Throat'),\n",
       " ('DB14006', 'DBCOND0112719', 'Minor ache'),\n",
       " ('DB14006', 'DBCOND0112720', 'Minor pain'),\n",
       " ('DB11942', 'DBCOND0028542', 'Refractory Multiple Myeloma'),\n",
       " ('DB00842', 'DBCOND0033368', 'Alcohol Withdrawal Syndrome(AWS)'),\n",
       " ('DB00842', 'DBCOND0018828', 'Anxiety'),\n",
       " ('DB00842', 'DBCOND0027904', 'Anxiety Disorders'),\n",
       " ('DB00842', 'DBCOND0058122', 'Depression, Anxiety'),\n",
       " ('DB01256', 'DBCOND0014554', 'Staphylococcal impetigo'),\n",
       " ('DB01256', 'DBCOND0014528', 'Streptococcal impetigo'),\n",
       " ('DB11050', 'DBCOND0093740', 'Disease caused by Salmonella typhi'),\n",
       " ('DB13148', 'DBCOND0089509', 'Bleeding caused by Factor X Deficiency'),\n",
       " ('DB13148',\n",
       "  'DBCOND0089510',\n",
       "  'Perioperative bleeding caused by Factor X Deficiency'),\n",
       " ('DB13148', 'DBCOND0089503', 'Vitamin K antagonist induced major bleeding'),\n",
       " ('DB00263', 'DBCOND0023111', 'Acute Otitis Media'),\n",
       " ('DB12834', 'DBCOND0071525', 'Bacterial Vaginosis (BV)'),\n",
       " ('DB09291',\n",
       "  'DBCOND0023978',\n",
       "  'Delayed chemotherapy induced naused and vomiting'),\n",
       " ('DB13995', 'DBCOND0031349', 'Iron Deficiency'),\n",
       " ('DB13892', 'DBCOND0093865', 'Venom poisoning caused by Crotalus atrox'),\n",
       " ('DB09131', 'DBCOND0023768', 'Total parenteral nutrition therapy'),\n",
       " ('DB00605', 'DBCOND0046486', 'Ankylosing Spondylitis (AS)'),\n",
       " ('DB00605', 'DBCOND0032843', 'Colorectal Polyps'),\n",
       " ('DB00605', 'DBCOND0052747', 'Gouty Arthritis'),\n",
       " ('DB00605', 'DBCOND0056529', 'Osteoarthritis (OA)'),\n",
       " ('DB00605', 'DBCOND0027961', 'Rheumatoid Arthritis'),\n",
       " ('DB00605', 'DBCOND0025179', 'Tendonitis exacerbated'),\n",
       " ('DB00605', 'DBCOND0021889', 'Acute Subacromial bursitis'),\n",
       " ('DB00605', 'DBCOND0021887', 'Acute supraspinatus tendinitis'),\n",
       " ('DB00709', 'DBCOND0060842', 'Hepatitis B Chronic Infection'),\n",
       " ('DB00709', 'DBCOND0035016', 'Human Immunodeficiency Virus (HIV) Infections'),\n",
       " ('DB00620', 'DBCOND0029828', 'Acne Vulgaris'),\n",
       " ('DB00620', 'DBCOND0032167', 'Acute Gouty Arthritis'),\n",
       " ('DB00620', 'DBCOND0053380', 'Allergic Rhinitis (AR)'),\n",
       " ('DB00620', 'DBCOND0071530', 'Alopecia Areata (AA)'),\n",
       " ('DB00620', 'DBCOND0046486', 'Ankylosing Spondylitis (AS)'),\n",
       " ('DB00620', 'DBCOND0013565', 'Asthma'),\n",
       " ('DB00620', 'DBCOND0067007', 'Atopic Dermatitis (AD)'),\n",
       " ('DB00620', 'DBCOND0028381', 'Autoimmune Hemolytic Anemia'),\n",
       " ('DB00620', 'DBCOND0004094', 'Berylliosis'),\n",
       " ('DB00620', 'DBCOND0021259', 'Bullous dermatitis herpetiformis'),\n",
       " ('DB00620', 'DBCOND0005674', 'Candidiasis, Cutaneous'),\n",
       " ('DB00620', 'DBCOND0106147', 'Chapped skin'),\n",
       " ('DB00620', 'DBCOND0033416', 'Congenital Adrenal Hyperplasia (CAH)'),\n",
       " ('DB00620', 'DBCOND0052431', 'Congenital Hypoplastic Anemia'),\n",
       " ('DB00620', 'DBCOND0052193', 'Crohn&#39;s Disease (CD)'),\n",
       " ('DB00620', 'DBCOND0039390', 'Dermatitis, Contact'),\n",
       " ('DB00620', 'DBCOND0002234', 'Dermatomyositis'),\n",
       " ('DB00620', 'DBCOND0106146', 'Diaper rashj'),\n",
       " ('DB00620', 'DBCOND0042421', 'Discoid Lupus Erythematosus (DLE)'),\n",
       " ('DB00620', 'DBCOND0024353', 'Edema of the cerebrum'),\n",
       " ('DB00620', 'DBCOND0015538', 'Epicondylitis'),\n",
       " ('DB00620', 'DBCOND0009886', 'Eye inflammation'),\n",
       " ('DB00620', 'DBCOND0034319', 'Hemangiomas'),\n",
       " ('DB00620', 'DBCOND0003950', 'Hypercalcemia'),\n",
       " ('DB00620', 'DBCOND0077772', 'Inflammation of Mouth'),\n",
       " ('DB00620', 'DBCOND0056190', 'Juvenile Idiopathic Arthritis (JIA)'),\n",
       " ('DB00620', 'DBCOND0060499', 'Keloid Scars'),\n",
       " ('DB00620', 'DBCOND0035632', 'Leukemias'),\n",
       " ('DB00620', 'DBCOND0055937', 'Lichen Planus (LP)'),\n",
       " ('DB00620', 'DBCOND0021286', 'Lichen simplex chronicus'),\n",
       " ('DB00620', 'DBCOND0046362', 'Malignant Lymphomas'),\n",
       " ('DB00620', 'DBCOND0057197', 'Mycosis Fungoides (MF)'),\n",
       " ('DB00620', 'DBCOND0009302', 'Necrobiosis lipoidica diabeticorum'),\n",
       " ('DB00620', 'DBCOND0001140', 'Ophthalmia, Sympathetic'),\n",
       " ('DB00620', 'DBCOND0001806', 'Pemphigus'),\n",
       " ('DB00620', 'DBCOND0007278', 'Pericarditis'),\n",
       " ('DB00620', 'DBCOND0013509', 'Polymyositis'),\n",
       " ('DB00620', 'DBCOND0051119', 'Post-Herpetic Neuralgia (PHN)'),\n",
       " ('DB00620', 'DBCOND0022017', 'Primary adrenocortical insufficiency'),\n",
       " ('DB00620', 'DBCOND0018907', 'Proteinuria'),\n",
       " ('DB00620', 'DBCOND0028320', 'Psoriatic Arthritis'),\n",
       " ('DB00620', 'DBCOND0021287', 'Psoriatic plaque'),\n",
       " ('DB00620', 'DBCOND0028424', 'Pure Red Cell Aplasia'),\n",
       " ('DB00620', 'DBCOND0053624', 'Regional Enteritis'),\n",
       " ('DB00620', 'DBCOND0027961', 'Rheumatoid Arthritis'),\n",
       " ('DB00620', 'DBCOND0009391', 'Secondary adrenocortical insufficiency'),\n",
       " ('DB00620', 'DBCOND0021268', 'Secondary thrombocytopenia'),\n",
       " ('DB00620', 'DBCOND0005745', 'Serum Sickness'),\n",
       " ('DB00620', 'DBCOND0087977', 'Skin Inflammation'),\n",
       " ('DB00620', 'DBCOND0016437', 'Synovitis'),\n",
       " ('DB00620', 'DBCOND0038683', 'Systemic Lupus Erythematosus (SLE)'),\n",
       " ('DB00620', 'DBCOND0032828', 'Temporal Arteritis'),\n",
       " ('DB00620', 'DBCOND0037104', 'Transfusion Reactions'),\n",
       " ('DB00620', 'DBCOND0021269', 'Trichinosis'),\n",
       " ('DB00620', 'DBCOND0053683', 'Tuberculosis Infection'),\n",
       " ('DB00620', 'DBCOND0029012', 'Ulcerative Colitis'),\n",
       " ('DB00620', 'DBCOND0009937', 'Uveitis'),\n",
       " ('DB00620', 'DBCOND0021949', 'Acute Bursitis'),\n",
       " ('DB00620', 'DBCOND0021963', 'Acute Multiple sclerosis'),\n",
       " ('DB00620', 'DBCOND0021972', 'Acute Rheumatic heart disease, unspecified'),\n",
       " ('DB00620', 'DBCOND0021950', 'Acute Tenosynovitis'),\n",
       " ('DB00620', 'DBCOND0024352', 'Cystic tumour of the ganglia'),\n",
       " ('DB00620', 'DBCOND0021260', 'Exfoliative erythroderma'),\n",
       " ('DB00620', 'DBCOND0021285', 'Granuloma annulare lesions'),\n",
       " ('DB00620', 'DBCOND0021276', 'Idiopathic eosinophilic pneumonias'),\n",
       " ('DB00620', 'DBCOND0022528', 'Non-suppurative Thyroiditis'),\n",
       " ('DB00620', 'DBCOND0021954', 'Severe Erythema multiforme'),\n",
       " ('DB00620', 'DBCOND0021277', 'Symptomatic Sarcoidosis'),\n",
       " ('DB00620', 'DBCOND0021967', 'Unresponsive to topical ocular inflammation'),\n",
       " ('DB00657', 'DBCOND0058109', 'Severe Hypertension'),\n",
       " ('DB00657', 'DBCOND0021489', 'Moderate Hypertension'),\n",
       " ('DB00657', 'DBCOND0022089', 'Uncomplicated Malignant hypertension'),\n",
       " ('DB00469', 'DBCOND0021344', 'Backache'),\n",
       " ('DB00469', 'DBCOND0056529', 'Osteoarthritis (OA)'),\n",
       " ('DB00469', 'DBCOND0012160', 'Pain'),\n",
       " ('DB00469', 'DBCOND0027961', 'Rheumatoid Arthritis'),\n",
       " ('DB01110', 'DBCOND0078869', 'Diaper Dermatitis'),\n",
       " ('DB01110', 'DBCOND0080575', 'Fungal infection of nail'),\n",
       " ('DB01110', 'DBCOND0038453', 'Oropharyngeal Candidiasis'),\n",
       " ('DB01110', 'DBCOND0021492', 'Pityriasis versicolor'),\n",
       " ('DB01110', 'DBCOND0047136', 'Tinea Corporis'),\n",
       " ('DB01110', 'DBCOND0041588', 'Tinea Cruris'),\n",
       " ('DB01110', 'DBCOND0000153', 'Tinea Pedis'),\n",
       " ('DB01110', 'DBCOND0020784', 'Vaginal yeast infection'),\n",
       " ('DB01110', 'DBCOND0022776', 'Cutaneous candidiasis infection'),\n",
       " ('DB10339', 'DBCOND0106299', 'Active Pneumococcal Infection'),\n",
       " ('DB10293',\n",
       "  'DBCOND0093617',\n",
       "  'Invasive Infection caused by Streptococcus pneumoniae serotype 1'),\n",
       " ('DB00631', 'DBCOND0083559', 'Acute Lymphoblastic Leukaemia Recurrent'),\n",
       " ('DB00631', 'DBCOND0058624', 'Refractory Acute Lymphoblastic Leukemia'),\n",
       " ('DB00631', 'DBCOND0069494', 'Refractory Acute Myelogenous Leukemia (AML)'),\n",
       " ('DB00631', 'DBCOND0022006', 'Refractory Langerhans cell histiocytosis'),\n",
       " ('DB01278', 'DBCOND0029465', 'Type 1 Diabetes Mellitus'),\n",
       " ('DB01278', 'DBCOND0029752', 'Type 2 Diabetes Mellitus'),\n",
       " ('DB01428', 'DBCOND0005372', 'Sunburn'),\n",
       " ('DB01013', 'DBCOND0025583', 'Severe Plaque psoriasis'),\n",
       " ('DB01013',\n",
       "  'DBCOND0112787',\n",
       "  'Corticosteroid responsive, Inflammatory Dermatosis'),\n",
       " ('DB01013',\n",
       "  'DBCOND0112789',\n",
       "  'Corticosteroid responsive, pruritic Dermatosis'),\n",
       " ('DB01013', 'DBCOND0020390', 'Moderate Plaque psoriasis'),\n",
       " ('DB01013', 'DBCOND0126409', 'Moderate Scalp Psoriasis'),\n",
       " ('DB01013', 'DBCOND0126410', 'Severe Scalp Psoriasis'),\n",
       " ('DB00720', 'DBCOND0028695', 'Hypercalcemia of Malignancy'),\n",
       " ('DB00720', 'DBCOND0022211', 'Osteolytic Bone metastases'),\n",
       " ('DB01114', 'DBCOND0053380', 'Allergic Rhinitis (AR)'),\n",
       " ('DB01114', 'DBCOND0035712', 'Allergies'),\n",
       " ('DB01114', 'DBCOND0024398', 'Coughing'),\n",
       " ('DB01114', 'DBCOND0034084', 'Pollen Allergy'),\n",
       " ('DB01114', 'DBCOND0022511', 'Upper respiratory symptoms'),\n",
       " ('DB00060', 'DBCOND0036413', 'Relapsing Remitting Multiple Sclerosis (RRMS)'),\n",
       " ('DB08888', 'DBCOND0050601', 'Symptomatic Vitreomacular Adhesion'),\n",
       " ('DB00404', 'DBCOND0018828', 'Anxiety'),\n",
       " ('DB00404', 'DBCOND0054747', 'Generalized Anxiety Disorder (GAD)'),\n",
       " ('DB00404', 'DBCOND0032724', 'Panic Disorders'),\n",
       " ('DB01415',\n",
       "  'DBCOND0040791',\n",
       "  'Acute Bacterial Exacerbation of Chronic Bronchitis (ABECB)'),\n",
       " ('DB01415', 'DBCOND0027917', 'Bacterial Infections'),\n",
       " ('DB01415', 'DBCOND0008863', 'Otitis media bacterial'),\n",
       " ('DB01415', 'DBCOND0056080', 'Streptococcal Pharyngitis'),\n",
       " ('DB01415', 'DBCOND0021135', 'Streptococcal tonsillitis'),\n",
       " ('DB00313', 'DBCOND0055089', 'Acute Depressive Episode'),\n",
       " ('DB00313', 'DBCOND0034367', 'Bipolar Disorder (BD)'),\n",
       " ('DB00313', 'DBCOND0036406', 'Complex Partial Seizures'),\n",
       " ('DB00313', 'DBCOND0017962', 'Migraine'),\n",
       " ('DB00313', 'DBCOND0031292', 'Seizure, Absence'),\n",
       " ('DB00313', 'DBCOND0119337', 'Seizure, multiple types'),\n",
       " ('DB00313', 'DBCOND0024512', 'Acute Manic episode'),\n",
       " ('DB00313', 'DBCOND0022505', 'Refractory seizure disorders'),\n",
       " ('DB09045', 'DBCOND0029752', 'Type 2 Diabetes Mellitus'),\n",
       " ('DB01201', 'DBCOND0050152', 'Active Tuberculosis'),\n",
       " ('DB01201', 'DBCOND0025407', 'Late phase Tuberculosis'),\n",
       " ('DB00091', 'DBCOND0067007', 'Atopic Dermatitis (AD)'),\n",
       " ('DB00091', 'DBCOND0030791', 'Bone Marrow Transplant Rejection'),\n",
       " ('DB00091', 'DBCOND0125301', 'Chronic transplant rejection'),\n",
       " ('DB00091', 'DBCOND0030834', 'Connective Tissue Disorders'),\n",
       " ('DB00091', 'DBCOND0001365', 'Glomerulosclerosis, Focal Segmental'),\n",
       " ('DB00091', 'DBCOND0051557', 'Graft Versus Host Disease (GVHD)'),\n",
       " ('DB00091', 'DBCOND0047700', 'Heart Transplant Rejection'),\n",
       " ('DB00091', 'DBCOND0030642', 'Idiopathic Thrombocytopenic Purpura'),\n",
       " ('DB00091', 'DBCOND0028936', 'Interstitial Cystitis'),\n",
       " ('DB00091', 'DBCOND0056190', 'Juvenile Idiopathic Arthritis (JIA)'),\n",
       " ('DB00091', 'DBCOND0066662', 'Kidney Transplant Rejection'),\n",
       " ('DB00091', 'DBCOND0054228', 'Liver Transplant Rejection'),\n",
       " ('DB00091', 'DBCOND0034112', 'Nephritis, Lupus'),\n",
       " ('DB00091', 'DBCOND0001361', 'Nephrotic Syndrome'),\n",
       " ('DB00091', 'DBCOND0069251', 'Ocular Rosacea'),\n",
       " ('DB00091', 'DBCOND0030946', 'Rejection, Transplant'),\n",
       " ('DB00091', 'DBCOND0033634', 'Severe Ulcerative Colitis'),\n",
       " ('DB00091', 'DBCOND0059840', 'Steroid Dependent Nephrotic Syndrome'),\n",
       " ('DB00091', 'DBCOND0043540', 'Steroid Resistant Nephrotic Syndrome'),\n",
       " ('DB00091', 'DBCOND0009937', 'Uveitis'),\n",
       " ('DB00091', 'DBCOND0116963', 'Blistering disorder'),\n",
       " ('DB00091', 'DBCOND0025249', 'Refractory Ulcerative colitis'),\n",
       " ('DB00091', 'DBCOND0020226', 'Severe, active Rheumatoid arthritis'),\n",
       " ('DB00091', 'DBCOND0020494', 'Severe, recalcitrant Plaque psoriasis'),\n",
       " ('DB00091', 'DBCOND0020498', 'Suppressed tear production'),\n",
       " ('DB02300', 'DBCOND0024328', 'Plaque psoriasis of the scalp'),\n",
       " ('DB02300', 'DBCOND0070073', 'Psoriasis Vulgaris (Plaque Psoriasis)'),\n",
       " ('DB01183', 'DBCOND0030983', 'Opioid Dependence'),\n",
       " ('DB01183', 'DBCOND0058333', 'Opioid Overdose'),\n",
       " ('DB01183', 'DBCOND0019903', 'Pruritus'),\n",
       " ('DB01183', 'DBCOND0034868', 'Respiratory Depression'),\n",
       " ('DB01183', 'DBCOND0066540', 'Severe Pain'),\n",
       " ('DB01183', 'DBCOND0000299', 'Shock, Septic'),\n",
       " ('DB01183', 'DBCOND0020636', 'Moderate Pain'),\n",
       " ('DB11201', 'DBCOND0012160', 'Pain'),\n",
       " ('DB03088', 'DBCOND0106293', 'Acne NOS'),\n",
       " ('DB13140', 'DBCOND0024824', 'Clostridium difficile infection recurrence'),\n",
       " ('DB06715', 'DBCOND0025076', 'Acute radiation sickness'),\n",
       " ('DB00206', 'DBCOND0040789', 'High Blood Pressure (Hypertension)'),\n",
       " ('DB00206', 'DBCOND0020684', 'Agitated psychotic state'),\n",
       " ('DB06196', 'DBCOND0057398', 'ACE Inhibitor-associated Angioedema'),\n",
       " ('DB06196', 'DBCOND0025587', 'Hereditary angioedema breakthrough attack'),\n",
       " ('DB01030', 'DBCOND0086609', 'Ewing&#39;s Sarcoma (ES)'),\n",
       " ('DB01030', 'DBCOND0032540', 'Leukemia Acute Myeloid Leukemia (AML)'),\n",
       " ('DB01030', 'DBCOND0047201', 'Refractory Neuroblastoma'),\n",
       " ('DB01030', 'DBCOND0022642', 'Metastatic Rhabdomyosarcoma'),\n",
       " ('DB01030', 'DBCOND0025384', 'Recurrent, IV-B Cervical cancer'),\n",
       " ('DB01030', 'DBCOND0025386', 'Refractory CNS lymphoma'),\n",
       " ('DB01030', 'DBCOND0025387', 'Refractory CNS malignancy'),\n",
       " ('DB01030', 'DBCOND0025385', 'Refractory, metastatic Ovarian cancer'),\n",
       " ('DB01030', 'DBCOND0022641', 'Relapsed Small cell lung cancer'),\n",
       " ('DB09300',\n",
       "  'DBCOND0026428',\n",
       "  'Gastrointestinal spastic and hypermotility disorders'),\n",
       " ('DB09300', 'DBCOND0025719', 'Genitourinary smooth muscle spasm'),\n",
       " ('DB09300',\n",
       "  'DBCOND0089476',\n",
       "  'Smooth muscle relaxation prior to radiological procedures'),\n",
       " ('DB00044', 'DBCOND0009256', 'Hypogonadism'),\n",
       " ('DB00044', 'DBCOND0019322', 'Infertility'),\n",
       " ('DB04868', 'DBCOND0057382', 'Chronic Phase Chronic Myeloid Leukemia'),\n",
       " ('DB04868', 'DBCOND0023195', 'Refractory Gastrointestinal stromal tumor'),\n",
       " ('DB04868',\n",
       "  'DBCOND0021942',\n",
       "  'Refractory, accelerated phase Chronic myeloid leukemia'),\n",
       " ('DB00352', 'DBCOND0048632', 'Acute Nonlymphocytic Leukemia'),\n",
       " ('DB00352', 'DBCOND0020969', 'Nonlymphocytic Acute myeloid leukemia'),\n",
       " ('DB00935', 'DBCOND0035647', 'Nasal Congestion'),\n",
       " ('DB00935', 'DBCOND0023141', 'Red eye'),\n",
       " ('DB00245',\n",
       "  'DBCOND0093520',\n",
       "  'Extrapyramidal disorder caused by neuroleptic drugs'),\n",
       " ('DB00245', 'DBCOND0017874', 'Parkinsonism'),\n",
       " ('DB00245',\n",
       "  'DBCOND0093521',\n",
       "  'Tardive Dyskinesia caused by neuroleptic drugs'),\n",
       " ('DB00322', 'DBCOND0111822', 'Metastatic Hepatic Cancer'),\n",
       " ('DB00322', 'DBCOND0020929', 'Stage 4 gastrointestinal adenocarcinoma'),\n",
       " ('DB12887', 'DBCOND0125725', 'Locally Advanced Epitheliod Sarcoma'),\n",
       " ('DB12887', 'DBCOND0083219', 'Metastatic Epithelioid Sarcoma'),\n",
       " ('DB00337', 'DBCOND0005560', 'Vitiligo'),\n",
       " ('DB00337', 'DBCOND0020949', 'Intertriginous psoriasis'),\n",
       " ('DB00337', 'DBCOND0025273', 'Mild Atopic dermatitis'),\n",
       " ('DB00337', 'DBCOND0025271', 'Moderate Atopic dermatitis'),\n",
       " ('DB00337', 'DBCOND0025272', 'Refractory Atopic dermatitis'),\n",
       " ('DB04789', 'DBCOND0077565', 'Dietary and Nutritional Therapies'),\n",
       " ('DB01053', 'DBCOND0014803', 'Actinomycosis'),\n",
       " ('DB01053', 'DBCOND0000387', 'Anthrax'),\n",
       " ('DB01053', 'DBCOND0020464', 'Bacteremia'),\n",
       " ('DB01053', 'DBCOND0027917', 'Bacterial Infections'),\n",
       " ('DB01053', 'DBCOND0069365', 'Clostridial Infection'),\n",
       " ('DB01053', 'DBCOND0000394', 'Diphtheria'),\n",
       " ('DB01053', 'DBCOND0014226', 'Empyema'),\n",
       " ('DB01053', 'DBCOND0007468', 'Endocarditis'),\n",
       " ('DB01053', 'DBCOND0022677', 'Listeria infection'),\n",
       " ('DB01053', 'DBCOND0014275', 'Meningitis'),\n",
       " ('DB01053', 'DBCOND0034253', 'Meningococcal Meningitis'),\n",
       " ('DB01053', 'DBCOND0025061', 'Necrotizing ulcerative gingivostomatitis'),\n",
       " ('DB01053', 'DBCOND0089302', 'Neisseria gonorrhoeae arthritis'),\n",
       " ('DB01053', 'DBCOND0024235', 'Pasteurella infections'),\n",
       " ('DB01053', 'DBCOND0007278', 'Pericarditis'),\n",
       " ('DB01053', 'DBCOND0036867', 'Severe Pneumonia'),\n",
       " ('DB01053', 'DBCOND0014490', 'Syphilis'),\n",
       " ('DB01053', 'DBCOND0000386', 'Tetanus'),\n",
       " ('DB01053', 'DBCOND0023009', 'Prophylaxis of Rheumatic fever'),\n",
       " ('DB01053', 'DBCOND0025806', 'Rat bite fever'),\n",
       " ('DB01053', 'DBCOND0025804', 'Severe Pneumococcal infection'),\n",
       " ('DB01053', 'DBCOND0021438', 'Severe Staphylococcal infection'),\n",
       " ('DB05018', 'DBCOND0028300', 'Fabry&#39;s Disease'),\n",
       " ('DB11585', 'DBCOND0005372', 'Sunburn'),\n",
       " ('DB00714', 'DBCOND0012298', 'Mobility decreased'),\n",
       " ('DB00795', 'DBCOND0052193', 'Crohn&#39;s Disease (CD)'),\n",
       " ('DB00795',\n",
       "  'DBCOND0024827',\n",
       "  'Polyarticular juvenile rheumatoid arthritis, chronic or unspecified'),\n",
       " ('DB00795', 'DBCOND0011080', 'Proctitis'),\n",
       " ('DB00795', 'DBCOND0027961', 'Rheumatoid Arthritis'),\n",
       " ('DB00795', 'DBCOND0033634', 'Severe Ulcerative Colitis'),\n",
       " ('DB00795', 'DBCOND0022617', 'Mild Ulcerative Colitis'),\n",
       " ('DB00795', 'DBCOND0020388', 'Moderate Ulcerative colitis'),\n",
       " ('DB11197', 'DBCOND0004065', 'Anemia, Pernicious'),\n",
       " ('DB11197', 'DBCOND0112687', 'Vitamin B9 deficiency'),\n",
       " ('DB11197', 'DBCOND0024436', 'Folate supplementation therapy'),\n",
       " ('DB11300', 'DBCOND0106331', 'Refractory to surgical techniques Bleeding'),\n",
       " ('DB08885', 'DBCOND0060562', 'Diabetic Macular Edema (DME)'),\n",
       " ('DB08885', 'DBCOND0118126', 'Diabetic Retinopathy (DR)'),\n",
       " ('DB08885', 'DBCOND0001204', 'Macular Edema'),\n",
       " ('DB08885', 'DBCOND0039029', 'Metastatic Colorectal Cancer (MCRC)'),\n",
       " ('DB08885', 'DBCOND0031080', 'Wet Age-Related Macular Degeneration'),\n",
       " ('DB01033', 'DBCOND0073466', 'Acute Lymphoblastic Leukaemias (ALL)'),\n",
       " ('DB01033', 'DBCOND0054528', 'Acute Promyelocytic Leukemia (APL)'),\n",
       " ('DB01033', 'DBCOND0052193', 'Crohn&#39;s Disease (CD)'),\n",
       " ('DB01033', 'DBCOND0000794', 'Hepatitis, Autoimmune'),\n",
       " ('DB01033', 'DBCOND0032744', 'Lymphoma, Lymphoblastic'),\n",
       " ('DB01033', 'DBCOND0029012', 'Ulcerative Colitis'),\n",
       " ('DB13915', 'DBCOND0103399', 'Refractory Diffuse large B-cell lymphoma NOS'),\n",
       " ('DB13915',\n",
       "  'DBCOND0103401',\n",
       "  'Refractory High grade B-cell lymphoma Burkitt-like lymphoma'),\n",
       " ('DB13915',\n",
       "  'DBCOND0103400',\n",
       "  'Refractory Primary Mediastinal Large B-Cell Lymphoma'),\n",
       " ('DB13915', 'DBCOND0103396', 'Relapsed Diffuse large B-cell lymphoma NOS'),\n",
       " ('DB13915',\n",
       "  'DBCOND0103398',\n",
       "  'Relapsed High grade B-cell lymphoma Burkitt-like lymphoma'),\n",
       " ('DB13915',\n",
       "  'DBCOND0103397',\n",
       "  'Relapsed Primary Mediastinal Large B-Cell Lymphoma'),\n",
       " ('DB00376', 'DBCOND0017933', 'Extrapyramidal disorder'),\n",
       " ('DB00376',\n",
       "  'DBCOND0021042',\n",
       "  'Extrapyramidal symptoms caused by butyrophenones'),\n",
       " ('DB00376',\n",
       "  'DBCOND0021033',\n",
       "  'Extrapyramidal symptoms caused by dibenzoxazepines'),\n",
       " ('DB00376',\n",
       "  'DBCOND0021035',\n",
       "  'Extrapyramidal symptoms caused by phenothiazines'),\n",
       " ('DB00376',\n",
       "  'DBCOND0021040',\n",
       "  'Extrapyramidal symptoms caused by thioxanthenes'),\n",
       " ('DB00376', 'DBCOND0030897', 'Idiopathic Parkinson&#39;s Disease'),\n",
       " ('DB00376', 'DBCOND0089213', 'Parkinsonism post encephalitic'),\n",
       " ('DB00376', 'DBCOND0021037', 'Arteriosclerotic Parkinsonism'),\n",
       " ('DB00451', 'DBCOND0009036', 'Hypothyroidism'),\n",
       " ('DB00451', 'DBCOND0020856', 'Myxedema coma'),\n",
       " ('DB00451', 'DBCOND0020853', 'Euthyroid Goitre'),\n",
       " ('DB00451', 'DBCOND0021309', 'Thyrotropin dependent Thyroid cancer'),\n",
       " ('DB01132', 'DBCOND0029752', 'Type 2 Diabetes Mellitus'),\n",
       " ('DB10292',\n",
       "  'DBCOND0093614',\n",
       "  'Otitis Media caused by Streptococcus pneumoniae serotype 23F'),\n",
       " ('DB10292',\n",
       "  'DBCOND0093613',\n",
       "  'Invasive Infection caused by Streptococcus pneumoniae serotype 23F'),\n",
       " ('DB08881', 'DBCOND0030058', 'Metastatic Melanoma'),\n",
       " ('DB08881', 'DBCOND0047213', 'Unresectable Melanoma'),\n",
       " ('DB08881', 'DBCOND0025673', 'Refractory Erdheim-Chester disease'),\n",
       " ('DB08881', 'DBCOND0025672', 'Refractory Non-small cell lung cancer'),\n",
       " ('DB00618', 'DBCOND0014803', 'Actinomycosis'),\n",
       " ('DB00618', 'DBCOND0000387', 'Anthrax'),\n",
       " ('DB00618', 'DBCOND0013893', 'Bartonellosis'),\n",
       " ('DB00618', 'DBCOND0014686', 'Brucellosis'),\n",
       " ('DB00618', 'DBCOND0054672', 'Chlamydia Trachomatis Infection'),\n",
       " ('DB00618', 'DBCOND0034234', 'Chlamydial Infections'),\n",
       " ('DB00618', 'DBCOND0000439', 'Cholera'),\n",
       " ('DB00618', 'DBCOND0076400', 'Clostridium Difficile Infection (CDI)'),\n",
       " ('DB00618', 'DBCOND0021916', 'Conjunctivitis caused by chlamydia'),\n",
       " ('DB00618', 'DBCOND0080563', 'Gram-negative infections Bacterial Infections'),\n",
       " ('DB00618', 'DBCOND0021925', 'Infection caused by Campylobacter fetus'),\n",
       " ('DB00618', 'DBCOND0022677', 'Listeria infection'),\n",
       " ('DB00618', 'DBCOND0025061', 'Necrotizing ulcerative gingivostomatitis'),\n",
       " ('DB00618', 'DBCOND0000445', 'Plague'),\n",
       " ('DB00618', 'DBCOND0000420', 'Psittacosis'),\n",
       " ('DB00618',\n",
       "  'DBCOND0021921',\n",
       "  'Relapsing fever caused by Borrelia recurrentis'),\n",
       " ('DB00618', 'DBCOND0070409', 'Respiratory Tract Infections (RTI)'),\n",
       " ('DB00618', 'DBCOND0035121', 'Rickettsia Infections'),\n",
       " ('DB00618', 'DBCOND0040526', 'Severe Acne Vulgaris'),\n",
       " ('DB00618', 'DBCOND0081133', 'Sexually Transmitted Infections (STIs)'),\n",
       " ('DB00618',\n",
       "  'DBCOND0089467',\n",
       "  'Skin infection caused by Staphylococcus aureus'),\n",
       " ('DB00618',\n",
       "  'DBCOND0066950',\n",
       "  'Syndrome of Inappropriate Antidiuretic Hormone Secretion (SIADH)'),\n",
       " ('DB00618', 'DBCOND0000421', 'Tularemia'),\n",
       " ('DB00618', 'DBCOND0024122', 'Urinary Tract Infection'),\n",
       " ('DB00618', 'DBCOND0000236', 'Yaws'),\n",
       " ('DB00618', 'DBCOND0021913', 'Acute Intestinal amebiasis'),\n",
       " ('DB09046', 'DBCOND0003854', 'Lipodystrophy, Congenital Generalized'),\n",
       " ('DB03147', 'DBCOND0024436', 'Folate supplementation therapy'),\n",
       " ('DB09122', 'DBCOND0044732', 'Disseminated Sclerosis'),\n",
       " ('DB14469', 'DBCOND0042928', 'Influenza B Virus Infection'),\n",
       " ('DB01113', 'DBCOND0022791', 'Vascular spasm'),\n",
       " ('DB01113', 'DBCOND0022794', 'Visceral spasms'),\n",
       " ('DB11835', 'DBCOND0039352', 'Metastatic Neuroendocrine Tumors'),\n",
       " ('DB09563', 'DBCOND0062462', 'Prostate Cancer'),\n",
       " ('DB06761', 'DBCOND0027916', 'Respiratory Distress Syndrome'),\n",
       " ('DB00099',\n",
       "  'DBCOND0020289',\n",
       "  'Hematopoietic Subsyndrome of Acute Radiation Syndrome'),\n",
       " ('DB00099', 'DBCOND0006401', 'Neutropenia'),\n",
       " ('DB00099', 'DBCOND0082137', 'Neutropenia, Febrile'),\n",
       " ('DB00099', 'DBCOND0100788', 'Neutropenia aggravated'),\n",
       " ('DB00099', 'DBCOND0020526', 'Neutropenia-related sequelae'),\n",
       " ('DB00099', 'DBCOND0020515', 'Neutrophil suppression'),\n",
       " ('DB00099', 'DBCOND0024109', 'Severe idiopathic neutropenia'),\n",
       " ('DB00099',\n",
       "  'DBCOND0020519',\n",
       "  'Mobilization of autologous hematopoietic progenitor cells into the peripheral blood for collection by leukapheresis'),\n",
       " ('DB11753',\n",
       "  'DBCOND0115941',\n",
       "  'Not complicated by fever, not complicated by bloody stool Traveler&#39;s Diarrhea caused by noninvasive strains of Escherichia coli'),\n",
       " ('DB01115', 'DBCOND0032922', 'Achalasia'),\n",
       " ('DB01115', 'DBCOND0075514', 'Chronic Stable Angina Pectoris'),\n",
       " ('DB01115', 'DBCOND0040789', 'High Blood Pressure (Hypertension)'),\n",
       " ('DB01115', 'DBCOND0078508', 'Hypertensive Emergency'),\n",
       " ('DB01115', 'DBCOND0073410', 'Premature Labour'),\n",
       " ('DB01115', 'DBCOND0041552', 'Pulmonary Edemas'),\n",
       " ('DB01115', 'DBCOND0051788', 'Pulmonary Hypertension (PH)'),\n",
       " ('DB01115', 'DBCOND0040958', 'Raynaud&#39;s Phenomenon'),\n",
       " ('DB01115', 'DBCOND0072914', 'Ureteral Calculus'),\n",
       " ('DB01115', 'DBCOND0039062', 'Vasospastic Angina'),\n",
       " ('DB09144', 'DBCOND0024003', 'Orotic aciduria'),\n",
       " ('DB09144', 'DBCOND0024004', 'Capecitabine overdose'),\n",
       " ('DB09144', 'DBCOND0024005', 'Fluorouracil overdose'),\n",
       " ('DB00627', 'DBCOND0022749', 'Atherosclerosis'),\n",
       " ('DB00627', 'DBCOND0073163', 'Mixed Dyslipidemias'),\n",
       " ('DB00627', 'DBCOND0027900', 'Myocardial Infarction'),\n",
       " ('DB00627', 'DBCOND0004063', 'Pellagra'),\n",
       " ('DB00627', 'DBCOND0050977', 'Vitamin Deficiency'),\n",
       " ('DB00627', 'DBCOND0023471', 'Primary Hyperlipidemia'),\n",
       " ('DB00627', 'DBCOND0021999', 'Severe Hyperlipidemia'),\n",
       " ('DB00627', 'DBCOND0077565', 'Dietary and Nutritional Therapies'),\n",
       " ('DB01212', 'DBCOND0014615', 'Arthritis gonococcal'),\n",
       " ('DB01212', 'DBCOND0031170', 'Bacterial Endocarditis'),\n",
       " ('DB01212', 'DBCOND0027917', 'Bacterial Infections'),\n",
       " ('DB01212', 'DBCOND0047809', 'Bacterial Sepsis'),\n",
       " ('DB01212', 'DBCOND0117152', 'Bacterial Sinusitis'),\n",
       " ('DB01212', 'DBCOND0051086', 'Bone and Joint Infections'),\n",
       " ('DB01212', 'DBCOND0014282', 'Brain abscess'),\n",
       " ('DB01212', 'DBCOND0001290', 'Chancroid'),\n",
       " ('DB01212', 'DBCOND0037905', 'Community Acquired Pneumonia (CAP)'),\n",
       " ('DB01212', 'DBCOND0008476', 'Conjunctivitis gonococcal neonatal'),\n",
       " ('DB01212', 'DBCOND0014148', 'Epididymitis'),\n",
       " ('DB01212', 'DBCOND0004178', 'Epiglottitis'),\n",
       " ('DB01212', 'DBCOND0025007', 'Gonococcal infection of pharynx'),\n",
       " ('DB01212', 'DBCOND0014594', 'Gonococcal pelvic inflammatory disease'),\n",
       " ('DB01212', 'DBCOND0042813', 'Intra-Abdominal Infections'),\n",
       " ('DB01212', 'DBCOND0014729', 'Lower respiratory tract infection bacterial'),\n",
       " ('DB01212', 'DBCOND0000208', 'Lyme Neuroborreliosis'),\n",
       " ('DB01212', 'DBCOND0060443', 'Meningitis, Bacterial'),\n",
       " ('DB01212', 'DBCOND0025004', 'Ophthalmia neonatorum due to gonococcus'),\n",
       " ('DB01212', 'DBCOND0008863', 'Otitis media bacterial'),\n",
       " ('DB01212', 'DBCOND0059577', 'Postoperative Infections'),\n",
       " ('DB01212', 'DBCOND0042748', 'Prosthetic Joint Infection'),\n",
       " ('DB01212', 'DBCOND0087961', 'Salmonella Typhi Infection'),\n",
       " ('DB01212', 'DBCOND0037400', 'Septic Arthritis'),\n",
       " ('DB01212', 'DBCOND0025006', 'Shigellosis'),\n",
       " ('DB01212',\n",
       "  'DBCOND0047801',\n",
       "  'Skin and Subcutaneous Tissue Bacterial Infections'),\n",
       " ('DB01212', 'DBCOND0014490', 'Syphilis'),\n",
       " ('DB01212', 'DBCOND0014595', 'Vulvovaginitis gonococcal'),\n",
       " ('DB01212', 'DBCOND0000415', 'Whipple Disease'),\n",
       " ('DB01212',\n",
       "  'DBCOND0025367',\n",
       "  'Complicated Bacterial Urinary Tract Infections'),\n",
       " ('DB01212', 'DBCOND0020981', 'Uncomplicated Gonorrhea'),\n",
       " ('DB01212',\n",
       "  'DBCOND0025003',\n",
       "  'Uncomplicated Urinary tract infection bacterial'),\n",
       " ('DB00928', 'DBCOND0028572', 'Chronic Myelomonocytic Leukemia'),\n",
       " ('DB00928', 'DBCOND0032540', 'Leukemia Acute Myeloid Leukemia (AML)'),\n",
       " ('DB00928', 'DBCOND0028565', 'Refractory Anemia'),\n",
       " ('DB00928',\n",
       "  'DBCOND0028567',\n",
       "  'Refractory Anemia With Excess Blasts in Transformation'),\n",
       " ('DB00928', 'DBCOND0028568', 'Refractory Anemia With Ringed Sideroblasts'),\n",
       " ('DB00928', 'DBCOND0006906', 'Refractory anaemia with an excess of blasts'),\n",
       " ('DB01172',\n",
       "  'DBCOND0106329',\n",
       "  'Bacterial Infection caused by Acinetobacter species'),\n",
       " ('DB01172', 'DBCOND0106321', 'Bacterial Infection caused by E. coli'),\n",
       " ('DB01172',\n",
       "  'DBCOND0106325',\n",
       "  'Bacterial Infection caused by Enterobacter aerogenes'),\n",
       " ('DB01172',\n",
       "  'DBCOND0106326',\n",
       "  'Bacterial Infection caused by Klebsiella Pneumoniae'),\n",
       " ('DB01172', 'DBCOND0106323', 'Bacterial Infection caused by Proteus species'),\n",
       " ('DB01172',\n",
       "  'DBCOND0106327',\n",
       "  'Bacterial Infection caused by Serratia marcescens'),\n",
       " ('DB02703', 'DBCOND0030770', 'Bacterial Conjunctivitis'),\n",
       " ('DB02703', 'DBCOND0025273', 'Mild Atopic dermatitis'),\n",
       " ('DB02703',\n",
       "  'DBCOND0106246',\n",
       "  'Mild Dermatitis caused by Staphylococcus aureusis'),\n",
       " ('DB02703', 'DBCOND0025271', 'Moderate Atopic dermatitis'),\n",
       " ('DB02703',\n",
       "  'DBCOND0106245',\n",
       "  'Moderate Dermatitis caused by Staphylococcus aureusis'),\n",
       " ('DB08935', 'DBCOND0041114', 'Refractory Follicular Lymphoma'),\n",
       " ('DB08935',\n",
       "  'DBCOND0023512',\n",
       "  'Previously untreated Chronic lymphocytic leukemia'),\n",
       " ('DB00388', 'DBCOND0000608', 'Hemorrhoids'),\n",
       " ('DB00388', 'DBCOND0020133', 'Hypotension'),\n",
       " ('DB00388', 'DBCOND0035647', 'Nasal Congestion'),\n",
       " ('DB00388', 'DBCOND0058642', 'Paroxysmal Supraventricular Tachycardia'),\n",
       " ('DB00388', 'DBCOND0000550', 'Shock, Cardiogenic'),\n",
       " ('DB00388', 'DBCOND0021076', 'Vasoconstrictor in regional analgesia'),\n",
       " ('DB08900', 'DBCOND0060188', 'Short Bowel Syndrome (SBS)'),\n",
       " ('DB14512', 'DBCOND0053380', 'Allergic Rhinitis (AR)'),\n",
       " ('DB14512', 'DBCOND0013565', 'Asthma'),\n",
       " ('DB14512', 'DBCOND0052432', 'Polyps, Nasal'),\n",
       " ('DB14512', 'DBCOND0019903', 'Pruritus'),\n",
       " ('DB14512', 'DBCOND0038236', 'Seasonal Allergies'),\n",
       " ('DB14512', 'DBCOND0087977', 'Skin Inflammation'),\n",
       " ('DB13888',\n",
       "  'DBCOND0093729',\n",
       "  'Invasive Meningococcal Infection caused by Neisseria meningitidis serogroup Y'),\n",
       " ('DB01144', 'DBCOND0002204', 'Hypokalemic Periodic Paralysis'),\n",
       " ('DB01144', 'DBCOND0074237', 'Ocular Hypertension'),\n",
       " ('DB01144', 'DBCOND0002205', 'Paralysis, Hyperkalemic Periodic'),\n",
       " ('DB00640', 'DBCOND0058642', 'Paroxysmal Supraventricular Tachycardia'),\n",
       " ('DB00640', 'DBCOND0039281', 'Pulmonary Arterial Hypertension (PAH)'),\n",
       " ('DB00640', 'DBCOND0022044', 'SVT'),\n",
       " ('DB00640', 'DBCOND0029078', 'Tachycardia, Supraventricular'),\n",
       " ('DB11082', 'DBCOND0005708', 'Dandruff'),\n",
       " ('DB11082', 'DBCOND0013339', 'Psoriasis'),\n",
       " ('DB11082', 'DBCOND0036095', 'Seborrheic Dermatitis'),\n",
       " ('DB06767', 'DBCOND0055468', 'Metabolic Alkalosis'),\n",
       " ('DB06767', 'DBCOND0023348', 'Hypochloremic state'),\n",
       " ('DB14005', 'DBCOND0106147', 'Chapped skin'),\n",
       " ('DB14005', 'DBCOND0005733', 'Diaper Rash'),\n",
       " ('DB14005', 'DBCOND0112717', 'Impetigo caused by Streptococcus aureus'),\n",
       " ('DB14005', 'DBCOND0106113', 'Impetigo caused by streptococcus pyogenes'),\n",
       " ('DB14005', 'DBCOND0062614', 'Skin Irritation'),\n",
       " ('DB14005', 'DBCOND0096508', 'Dryness of the skin'),\n",
       " ('DB00925', 'DBCOND0031696', 'Micturition Disorder'),\n",
       " ('DB00925', 'DBCOND0071316', 'Pheochromocytomas'),\n",
       " ('DB00925', 'DBCOND0001412', 'Urinary Retention'),\n",
       " ('DB01323', 'DBCOND0018828', 'Anxiety'),\n",
       " ('DB01323', 'DBCOND0018735', 'Depression'),\n",
       " ('DB01323', 'DBCOND0048438', 'Dermabrasion'),\n",
       " ('DB01323', 'DBCOND0029798', 'Hot Flushes'),\n",
       " ('DB01323', 'DBCOND0017531', 'Insomnia'),\n",
       " ('DB01323', 'DBCOND0033099', 'Obsessive Compulsive Disorder (OCD)'),\n",
       " ('DB01323', 'DBCOND0029996', 'Seasonal Affective Disorder (SAD)'),\n",
       " ('DB01323', 'DBCOND0087977', 'Skin Inflammation'),\n",
       " ('DB01323', 'DBCOND0031768', 'Somatization Disorder'),\n",
       " ('DB01323', 'DBCOND0125511', 'Soreness, Muscle'),\n",
       " ('DB01323', 'DBCOND0106343', 'First-degree burn'),\n",
       " ('DB10299',\n",
       "  'DBCOND0093634',\n",
       "  'Infection caused by human papillomavirus type 6'),\n",
       " ('DB12783', 'DBCOND0053495', 'Parkinson&#39;s Disease (PD)'),\n",
       " ('DB00216', 'DBCOND0043723', 'Acute Migraine'),\n",
       " ('DB00216', 'DBCOND0025093', 'Migraine with acute onset aura'),\n",
       " ('DB14039', 'DBCOND0017962', 'Migraine'),\n",
       " ('DB06714', 'DBCOND0035647', 'Nasal Congestion'),\n",
       " ('DB09104', 'DBCOND0023031', 'Acid indigestion'),\n",
       " ('DB09104', 'DBCOND0004520', 'Constipation'),\n",
       " ('DB09104', 'DBCOND0004515', 'Heartburn'),\n",
       " ('DB09104', 'DBCOND0023344', 'Sour stomach'),\n",
       " ('DB09104', 'DBCOND0023032', 'Upset stomach'),\n",
       " ('DB01621', 'DBCOND0018504', 'Schizophrenia'),\n",
       " ('DB11574', 'DBCOND0053690', 'Chronic Hepatitis C Genotype 1'),\n",
       " ('DB11574', 'DBCOND0023732', 'Chronic hepatitis C genotype 1a'),\n",
       " ('DB11574', 'DBCOND0023728', 'Chronic hepatitis C genotype 1b'),\n",
       " ('DB11574', 'DBCOND0024499', 'Chronic hepatitis C genotype 3'),\n",
       " ('DB11574', 'DBCOND0023725', 'Chronic hepatitis C genotype 4'),\n",
       " ('DB00051', 'DBCOND0052193', 'Crohn&#39;s Disease (CD)'),\n",
       " ('DB00051',\n",
       "  'DBCOND0092758',\n",
       "  'Non-infectious Intermediate, Posterior and Panuveitis'),\n",
       " ('DB00051', 'DBCOND0057260', 'Pediatric Crohn&#39;s Disease'),\n",
       " ('DB00051', 'DBCOND0025138', 'Psoriatic arthritis aggravated'),\n",
       " ('DB00051', 'DBCOND0005724', 'Pyoderma Gangrenosum'),\n",
       " ('DB00051', 'DBCOND0025583', 'Severe Plaque psoriasis'),\n",
       " ('DB00051', 'DBCOND0033634', 'Severe Ulcerative Colitis'),\n",
       " ('DB00051', 'DBCOND0020385', 'Active Ankylosing spondylitis'),\n",
       " ('DB00051', 'DBCOND0020392', 'Moderate Hidradenitis Suppurativa'),\n",
       " ('DB00051', 'DBCOND0025507', 'Moderate Juvenile idiopathic arthritis'),\n",
       " ('DB00051', 'DBCOND0020390', 'Moderate Plaque psoriasis'),\n",
       " ('DB00051', 'DBCOND0020318', 'Moderate Rheumatoid arthritis'),\n",
       " ('DB00051', 'DBCOND0020388', 'Moderate Ulcerative colitis'),\n",
       " ('DB00051', 'DBCOND0020391', 'Severe Hidradenitis Suppurativa'),\n",
       " ('DB00051', 'DBCOND0025506', 'Severe Juvenile idiopathic arthritis'),\n",
       " ('DB00051', 'DBCOND0020317', 'Severe Rheumatoid arthritis'),\n",
       " ('DB00726', 'DBCOND0018735', 'Depression'),\n",
       " ('DB00726', 'DBCOND0017531', 'Insomnia'),\n",
       " ...]"
      ]
     },
     "execution_count": 32,
     "metadata": {},
     "output_type": "execute_result"
    }
   ],
   "source": [
    "data = [(key, ind[0],ind[1]) for key, indications in drug_ind_dict.items() for ind in indications]\n",
    "data"
   ]
  },
  {
   "cell_type": "code",
   "execution_count": 44,
   "metadata": {
    "ExecuteTime": {
     "end_time": "2020-03-09T09:57:32.200229Z",
     "start_time": "2020-03-09T09:57:32.164422Z"
    }
   },
   "outputs": [
    {
     "name": "stdout",
     "output_type": "stream",
     "text": [
      "(8176, 4)\n"
     ]
    },
    {
     "data": {
      "text/html": [
       "<div>\n",
       "<style scoped>\n",
       "    .dataframe tbody tr th:only-of-type {\n",
       "        vertical-align: middle;\n",
       "    }\n",
       "\n",
       "    .dataframe tbody tr th {\n",
       "        vertical-align: top;\n",
       "    }\n",
       "\n",
       "    .dataframe thead th {\n",
       "        text-align: right;\n",
       "    }\n",
       "</style>\n",
       "<table border=\"1\" class=\"dataframe\">\n",
       "  <thead>\n",
       "    <tr style=\"text-align: right;\">\n",
       "      <th></th>\n",
       "      <th>drug</th>\n",
       "      <th>ind_id</th>\n",
       "      <th>ind_lbl</th>\n",
       "      <th>approved</th>\n",
       "    </tr>\n",
       "  </thead>\n",
       "  <tbody>\n",
       "    <tr>\n",
       "      <th>0</th>\n",
       "      <td>DB00412</td>\n",
       "      <td>DBCOND0029752</td>\n",
       "      <td>Type 2 Diabetes Mellitus</td>\n",
       "      <td>1</td>\n",
       "    </tr>\n",
       "    <tr>\n",
       "      <th>1</th>\n",
       "      <td>DB00485</td>\n",
       "      <td>DBCOND0015480</td>\n",
       "      <td>Animal bite</td>\n",
       "      <td>1</td>\n",
       "    </tr>\n",
       "    <tr>\n",
       "      <th>2</th>\n",
       "      <td>DB00485</td>\n",
       "      <td>DBCOND0000235</td>\n",
       "      <td>Impetigo</td>\n",
       "      <td>1</td>\n",
       "    </tr>\n",
       "    <tr>\n",
       "      <th>3</th>\n",
       "      <td>DB00485</td>\n",
       "      <td>DBCOND0021394</td>\n",
       "      <td>Infection caused by staphylococci</td>\n",
       "      <td>1</td>\n",
       "    </tr>\n",
       "    <tr>\n",
       "      <th>4</th>\n",
       "      <td>DB00294</td>\n",
       "      <td>DBCOND0020891</td>\n",
       "      <td>Contraception</td>\n",
       "      <td>1</td>\n",
       "    </tr>\n",
       "    <tr>\n",
       "      <th>5</th>\n",
       "      <td>DB00294</td>\n",
       "      <td>DBCOND0024304</td>\n",
       "      <td>Contraceptive implant therapy</td>\n",
       "      <td>1</td>\n",
       "    </tr>\n",
       "    <tr>\n",
       "      <th>6</th>\n",
       "      <td>DB00006</td>\n",
       "      <td>DBCOND0034735</td>\n",
       "      <td>Acute Coronary Syndromes (ACS)</td>\n",
       "      <td>1</td>\n",
       "    </tr>\n",
       "    <tr>\n",
       "      <th>7</th>\n",
       "      <td>DB00006</td>\n",
       "      <td>DBCOND0094088</td>\n",
       "      <td>Thrombotic events</td>\n",
       "      <td>1</td>\n",
       "    </tr>\n",
       "    <tr>\n",
       "      <th>8</th>\n",
       "      <td>DB09526</td>\n",
       "      <td>DBCOND0023820</td>\n",
       "      <td>Melasma</td>\n",
       "      <td>1</td>\n",
       "    </tr>\n",
       "    <tr>\n",
       "      <th>9</th>\n",
       "      <td>DB09526</td>\n",
       "      <td>DBCOND0025747</td>\n",
       "      <td>Moderate Melasma</td>\n",
       "      <td>1</td>\n",
       "    </tr>\n",
       "  </tbody>\n",
       "</table>\n",
       "</div>"
      ],
      "text/plain": [
       "      drug         ind_id                            ind_lbl  approved\n",
       "0  DB00412  DBCOND0029752           Type 2 Diabetes Mellitus         1\n",
       "1  DB00485  DBCOND0015480                        Animal bite         1\n",
       "2  DB00485  DBCOND0000235                           Impetigo         1\n",
       "3  DB00485  DBCOND0021394  Infection caused by staphylococci         1\n",
       "4  DB00294  DBCOND0020891                      Contraception         1\n",
       "5  DB00294  DBCOND0024304      Contraceptive implant therapy         1\n",
       "6  DB00006  DBCOND0034735     Acute Coronary Syndromes (ACS)         1\n",
       "7  DB00006  DBCOND0094088                  Thrombotic events         1\n",
       "8  DB09526  DBCOND0023820                            Melasma         1\n",
       "9  DB09526  DBCOND0025747                   Moderate Melasma         1"
      ]
     },
     "execution_count": 44,
     "metadata": {},
     "output_type": "execute_result"
    }
   ],
   "source": [
    "df = pd.DataFrame(data, columns=['drug', 'ind_id', 'ind_lbl'])\n",
    "df['approved'] = df['drug'].apply(lambda x: 1 if x in drug_set_approved else 0)\n",
    "print(df.shape)\n",
    "df.head(10)"
   ]
  },
  {
   "cell_type": "code",
   "execution_count": 48,
   "metadata": {
    "ExecuteTime": {
     "end_time": "2020-03-09T10:01:46.152710Z",
     "start_time": "2020-03-09T10:01:46.070797Z"
    }
   },
   "outputs": [],
   "source": [
    "df.to_csv('../Data sets/DrugBank/drugs_indications_df.csv')"
   ]
  },
  {
   "cell_type": "code",
   "execution_count": 41,
   "metadata": {
    "ExecuteTime": {
     "end_time": "2020-03-09T09:51:27.450692Z",
     "start_time": "2020-03-09T09:51:27.439491Z"
    }
   },
   "outputs": [
    {
     "name": "stdout",
     "output_type": "stream",
     "text": [
      "unique drugs 2052\n",
      "unique indications 3539\n"
     ]
    }
   ],
   "source": [
    "print(f'unique drugs {df[\"drug\"].nunique()}')\n",
    "print(f'unique indications {df[\"ind_id\"].nunique()}')"
   ]
  },
  {
   "cell_type": "code",
   "execution_count": 43,
   "metadata": {
    "ExecuteTime": {
     "end_time": "2020-03-09T09:56:11.579969Z",
     "start_time": "2020-03-09T09:56:11.574105Z"
    }
   },
   "outputs": [
    {
     "name": "stdout",
     "output_type": "stream",
     "text": [
      "Approved drugs: 3988\n",
      "Not Approved drugs: 9487\n"
     ]
    }
   ],
   "source": [
    "print(f'Approved drugs: {len(drug_set_approved)}')\n",
    "print(f'Not Approved drugs: {len(drug_set_not_approved)}')"
   ]
  },
  {
   "cell_type": "code",
   "execution_count": 46,
   "metadata": {
    "ExecuteTime": {
     "end_time": "2020-03-09T09:58:48.305660Z",
     "start_time": "2020-03-09T09:58:48.292924Z"
    }
   },
   "outputs": [
    {
     "data": {
      "text/plain": [
       "2023"
      ]
     },
     "execution_count": 46,
     "metadata": {},
     "output_type": "execute_result"
    }
   ],
   "source": [
    "df[df['approved'] == 1]['drug'].nunique()"
   ]
  }
 ],
 "metadata": {
  "celltoolbar": "Initialization Cell",
  "kernelspec": {
   "display_name": "Python 3",
   "language": "python",
   "name": "python3"
  },
  "language_info": {
   "codemirror_mode": {
    "name": "ipython",
    "version": 3
   },
   "file_extension": ".py",
   "mimetype": "text/x-python",
   "name": "python",
   "nbconvert_exporter": "python",
   "pygments_lexer": "ipython3",
   "version": "3.8.2"
  },
  "toc": {
   "base_numbering": 1,
   "nav_menu": {},
   "number_sections": true,
   "sideBar": true,
   "skip_h1_title": false,
   "title_cell": "Table of Contents",
   "title_sidebar": "Contents",
   "toc_cell": true,
   "toc_position": {
    "height": "calc(100% - 180px)",
    "left": "10px",
    "top": "150px",
    "width": "253px"
   },
   "toc_section_display": true,
   "toc_window_display": true
  },
  "varInspector": {
   "cols": {
    "lenName": 16,
    "lenType": 16,
    "lenVar": 40
   },
   "kernels_config": {
    "python": {
     "delete_cmd_postfix": "",
     "delete_cmd_prefix": "del ",
     "library": "var_list.py",
     "varRefreshCmd": "print(var_dic_list())"
    },
    "r": {
     "delete_cmd_postfix": ") ",
     "delete_cmd_prefix": "rm(",
     "library": "var_list.r",
     "varRefreshCmd": "cat(var_dic_list()) "
    }
   },
   "oldHeight": 758,
   "position": {
    "height": "40px",
    "left": "1550px",
    "right": "20px",
    "top": "120px",
    "width": "350px"
   },
   "types_to_exclude": [
    "module",
    "function",
    "builtin_function_or_method",
    "instance",
    "_Feature"
   ],
   "varInspector_section_display": "none",
   "window_display": true
  }
 },
 "nbformat": 4,
 "nbformat_minor": 2
}
