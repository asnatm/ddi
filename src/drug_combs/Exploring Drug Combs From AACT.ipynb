{
 "cells": [
  {
   "cell_type": "markdown",
   "metadata": {},
   "source": [
    "## Code prepration"
   ]
  },
  {
   "cell_type": "markdown",
   "metadata": {},
   "source": [
    "### Imports"
   ]
  },
  {
   "cell_type": "code",
   "execution_count": 1,
   "metadata": {},
   "outputs": [
    {
     "name": "stderr",
     "output_type": "stream",
     "text": [
      "/Users/omernizri/Drugs-Combination-Research/lib/python3.7/site-packages/tqdm/std.py:666: FutureWarning: The Panel class is removed from pandas. Accessing it from the top-level namespace will also be removed in the next version\n",
      "  from pandas import Panel\n"
     ]
    }
   ],
   "source": [
    "import pandas as pd\n",
    "import numpy as np\n",
    "import seaborn as sns\n",
    "import matplotlib.pyplot as plt\n",
    "import re\n",
    "import json\n",
    "import os\n",
    "import sys\n",
    "from tqdm import tqdm, tqdm_notebook\n",
    "# import sibling package\n",
    "sys.path.insert(0, os.path.abspath('..'))\n",
    "from drug_identfiers_resolver.Identifiers_converter import Identifiers_converter\n",
    "%matplotlib inline\n",
    "tqdm.pandas(tqdm_notebook)"
   ]
  },
  {
   "cell_type": "markdown",
   "metadata": {},
   "source": [
    "### Define functions for the notebook"
   ]
  },
  {
   "cell_type": "code",
   "execution_count": 2,
   "metadata": {},
   "outputs": [],
   "source": [
    "def get_drug_identifier_single(id_converter, interventions, cache):\n",
    "    main_name = interventions[0]\n",
    "    identifier = cache.get(main_name, -1)\n",
    "    if identifier != -1:\n",
    "        return identifier\n",
    "    identifier = id_converter._retrieve_from_drugbank(main_name)\n",
    "    cache[main_name] = identifier\n",
    "    if identifier is not None:\n",
    "        return identifier\n",
    "    else:\n",
    "        other_names = interventions[1]\n",
    "        if other_names is None:\n",
    "            # Can't find identifier for all the drugs in this drugs comb\n",
    "            return None\n",
    "        found = False\n",
    "        for name in other_names:\n",
    "            identifier = cache.get(name, -1)\n",
    "            if identifier != -1:\n",
    "                return identifier\n",
    "                break\n",
    "            identifier = id_converter._retrieve_from_drugbank(name)\n",
    "            cache[name] = identifier\n",
    "            if identifier is not None:\n",
    "                return identifier\n",
    "        return None\n",
    "\n",
    "def get_drug_identifier(id_converter, interventions, cache):\n",
    "    result = []\n",
    "    for int_with_other_names in interventions:\n",
    "        main_name = int_with_other_names[0]\n",
    "        identifier = cache.get(main_name, None)\n",
    "        if identifier is not None:\n",
    "            result.append(identifier)\n",
    "            continue\n",
    "        identifier = id_converter._retrieve_from_drugbank(main_name)\n",
    "        if identifier is not None:\n",
    "            cache[main_name] = identifier\n",
    "            result.append(identifier)\n",
    "        else:\n",
    "            other_names = int_with_other_names[1]\n",
    "            if other_names is None:\n",
    "                # Can't find identifier for all the drugs in this drugs comb\n",
    "                return None\n",
    "            found = False\n",
    "            for name in other_names:\n",
    "                identifier = cache.get(name, None)\n",
    "                if identifier is not None:\n",
    "                    result.append(identifier)\n",
    "                    break\n",
    "                identifier = id_converter._retrieve_from_drugbank(name)\n",
    "                if identifier is not None:\n",
    "                    cache[name] = identifier\n",
    "                    result.append(identifier)\n",
    "                    found = True\n",
    "                    break\n",
    "            if not found:\n",
    "                return None\n",
    "    return result      \n",
    "    \n",
    "    \n",
    "def regex_or_x(x, regexes):\n",
    "    for regex in regexes:\n",
    "        res = regex.findall(x)\n",
    "        if res != []:\n",
    "            x = res[0]\n",
    "    return x\n",
    "\n",
    "def regex_on_interventions_with_other_names(arr, regs):\n",
    "    original_name = arr[0]\n",
    "    others = arr[1]\n",
    "    return [regex_or_x(original_name, regs),\n",
    "             [regex_or_x(other_name, regs) for other_name in others]]\n",
    "\n",
    "def clean_drug_names(df, original_col, dest_col):\n",
    "    result_df = df.copy()\n",
    "    comparator_regex = re.compile('Comparator: (.*)')\n",
    "    remove_mg_kg = re.compile('^(.*?)(?:(?:\\/\\d)|(?: \\d)|(?:,(?:.*)\\d)).*?(?:mg|kg|μg)(?:.*?)$')\n",
    "    regs = [comparator_regex, remove_mg_kg]\n",
    "    result_df[dest_col] = result_df[original_col].apply(lambda x: regex_on_interventions_with_other_names(x, regs))\n",
    "    return result_df\n",
    "    \n",
    "years_regex = re.compile('\\d{4}')\n",
    "    \n",
    "id_converter = Identifiers_converter() "
   ]
  },
  {
   "cell_type": "markdown",
   "metadata": {},
   "source": [
    "# Unaggregated version\n",
    "Here we have an entry per intervention"
   ]
  },
  {
   "cell_type": "markdown",
   "metadata": {},
   "source": [
    "## Reading and cleaning"
   ]
  },
  {
   "cell_type": "code",
   "execution_count": 3,
   "metadata": {},
   "outputs": [
    {
     "name": "stderr",
     "output_type": "stream",
     "text": [
      "/Users/omernizri/Drugs-Combination-Research/lib/python3.7/site-packages/IPython/core/interactiveshell.py:3063: DtypeWarning: Columns (4) have mixed types.Specify dtype option on import or set low_memory=False.\n",
      "  interactivity=interactivity, compiler=compiler, result=result)\n"
     ]
    },
    {
     "data": {
      "text/html": [
       "<div>\n",
       "<style scoped>\n",
       "    .dataframe tbody tr th:only-of-type {\n",
       "        vertical-align: middle;\n",
       "    }\n",
       "\n",
       "    .dataframe tbody tr th {\n",
       "        vertical-align: top;\n",
       "    }\n",
       "\n",
       "    .dataframe thead th {\n",
       "        text-align: right;\n",
       "    }\n",
       "</style>\n",
       "<table border=\"1\" class=\"dataframe\">\n",
       "  <thead>\n",
       "    <tr style=\"text-align: right;\">\n",
       "      <th></th>\n",
       "      <th>nct_id</th>\n",
       "      <th>study_start_date</th>\n",
       "      <th>phase</th>\n",
       "      <th>overall_status</th>\n",
       "      <th>last_known_status</th>\n",
       "      <th>is_fda_regulated_drug</th>\n",
       "      <th>design_group_id</th>\n",
       "      <th>interventions_id</th>\n",
       "      <th>group_type</th>\n",
       "      <th>title</th>\n",
       "      <th>intervention_name</th>\n",
       "      <th>interventions_with_other_names</th>\n",
       "      <th>intervention_description</th>\n",
       "      <th>mesh_terms</th>\n",
       "      <th>downcase_mesh_terms</th>\n",
       "      <th>condition_names</th>\n",
       "      <th>condition_downcase_names</th>\n",
       "      <th>study_started_year</th>\n",
       "    </tr>\n",
       "  </thead>\n",
       "  <tbody>\n",
       "    <tr>\n",
       "      <th>0</th>\n",
       "      <td>NCT00000134</td>\n",
       "      <td>1992-12-31</td>\n",
       "      <td>Phase 3</td>\n",
       "      <td>Completed</td>\n",
       "      <td>NaN</td>\n",
       "      <td>unknown</td>\n",
       "      <td>5002853</td>\n",
       "      <td>4895425</td>\n",
       "      <td>Active Comparator</td>\n",
       "      <td>combination therapy</td>\n",
       "      <td>Ganciclovir</td>\n",
       "      <td>[Ganciclovir, [cytovene]]</td>\n",
       "      <td>intravenous ganciclovir induction at 5 mg/kg t...</td>\n",
       "      <td>[\"HIV Infections\", \"Acquired Immunodeficiency ...</td>\n",
       "      <td>[\"hiv infections\", \"acquired immunodeficiency ...</td>\n",
       "      <td>[\"HIV Infections\", \"Acquired Immunodeficiency ...</td>\n",
       "      <td>[\"hiv infections\", \"acquired immunodeficiency ...</td>\n",
       "      <td>1992</td>\n",
       "    </tr>\n",
       "    <tr>\n",
       "      <th>1</th>\n",
       "      <td>NCT00000134</td>\n",
       "      <td>1992-12-31</td>\n",
       "      <td>Phase 3</td>\n",
       "      <td>Completed</td>\n",
       "      <td>NaN</td>\n",
       "      <td>unknown</td>\n",
       "      <td>5002853</td>\n",
       "      <td>4895426</td>\n",
       "      <td>Active Comparator</td>\n",
       "      <td>combination therapy</td>\n",
       "      <td>Foscarnet</td>\n",
       "      <td>[Foscarnet, [foscavir]]</td>\n",
       "      <td>intravenous foscarnet induction at 90 mg/kg tw...</td>\n",
       "      <td>[\"HIV Infections\", \"Acquired Immunodeficiency ...</td>\n",
       "      <td>[\"hiv infections\", \"acquired immunodeficiency ...</td>\n",
       "      <td>[\"HIV Infections\", \"Acquired Immunodeficiency ...</td>\n",
       "      <td>[\"hiv infections\", \"acquired immunodeficiency ...</td>\n",
       "      <td>1992</td>\n",
       "    </tr>\n",
       "    <tr>\n",
       "      <th>2</th>\n",
       "      <td>NCT00000136</td>\n",
       "      <td>1990-03-31</td>\n",
       "      <td>Phase 3</td>\n",
       "      <td>Completed</td>\n",
       "      <td>NaN</td>\n",
       "      <td>unknown</td>\n",
       "      <td>5002848</td>\n",
       "      <td>4895421</td>\n",
       "      <td>Experimental</td>\n",
       "      <td>Ganciclovir</td>\n",
       "      <td>Foscarnet</td>\n",
       "      <td>[Foscarnet, [Foscavir]]</td>\n",
       "      <td>60 mg/kg every 8 hours, 90 mg/kg/day</td>\n",
       "      <td>[\"Cytomegalovirus Retinitis\", \"Retinitis\"]</td>\n",
       "      <td>[\"cytomegalovirus retinitis\", \"retinitis\"]</td>\n",
       "      <td>[\"HIV Infections\", \"Cytomegalovirus Retinitis\"]</td>\n",
       "      <td>[\"hiv infections\", \"cytomegalovirus retinitis\"]</td>\n",
       "      <td>1990</td>\n",
       "    </tr>\n",
       "    <tr>\n",
       "      <th>3</th>\n",
       "      <td>NCT00000136</td>\n",
       "      <td>1990-03-31</td>\n",
       "      <td>Phase 3</td>\n",
       "      <td>Completed</td>\n",
       "      <td>NaN</td>\n",
       "      <td>unknown</td>\n",
       "      <td>5002847</td>\n",
       "      <td>4895422</td>\n",
       "      <td>Experimental</td>\n",
       "      <td>Foscarnet</td>\n",
       "      <td>Ganciclovir</td>\n",
       "      <td>[Ganciclovir, [Vitraset]]</td>\n",
       "      <td>5 mg/kg every 12 hours, 5 mg/kg every 24 hours</td>\n",
       "      <td>[\"Cytomegalovirus Retinitis\", \"Retinitis\"]</td>\n",
       "      <td>[\"cytomegalovirus retinitis\", \"retinitis\"]</td>\n",
       "      <td>[\"HIV Infections\", \"Cytomegalovirus Retinitis\"]</td>\n",
       "      <td>[\"hiv infections\", \"cytomegalovirus retinitis\"]</td>\n",
       "      <td>1990</td>\n",
       "    </tr>\n",
       "    <tr>\n",
       "      <th>4</th>\n",
       "      <td>NCT00000136</td>\n",
       "      <td>1990-03-31</td>\n",
       "      <td>Phase 3</td>\n",
       "      <td>Completed</td>\n",
       "      <td>NaN</td>\n",
       "      <td>unknown</td>\n",
       "      <td>5002848</td>\n",
       "      <td>4895422</td>\n",
       "      <td>Experimental</td>\n",
       "      <td>Ganciclovir</td>\n",
       "      <td>Ganciclovir</td>\n",
       "      <td>[Ganciclovir, [Vitraset]]</td>\n",
       "      <td>5 mg/kg every 12 hours, 5 mg/kg every 24 hours</td>\n",
       "      <td>[\"Cytomegalovirus Retinitis\", \"Retinitis\"]</td>\n",
       "      <td>[\"cytomegalovirus retinitis\", \"retinitis\"]</td>\n",
       "      <td>[\"HIV Infections\", \"Cytomegalovirus Retinitis\"]</td>\n",
       "      <td>[\"hiv infections\", \"cytomegalovirus retinitis\"]</td>\n",
       "      <td>1990</td>\n",
       "    </tr>\n",
       "  </tbody>\n",
       "</table>\n",
       "</div>"
      ],
      "text/plain": [
       "        nct_id study_start_date    phase overall_status last_known_status  \\\n",
       "0  NCT00000134       1992-12-31  Phase 3      Completed               NaN   \n",
       "1  NCT00000134       1992-12-31  Phase 3      Completed               NaN   \n",
       "2  NCT00000136       1990-03-31  Phase 3      Completed               NaN   \n",
       "3  NCT00000136       1990-03-31  Phase 3      Completed               NaN   \n",
       "4  NCT00000136       1990-03-31  Phase 3      Completed               NaN   \n",
       "\n",
       "  is_fda_regulated_drug  design_group_id  interventions_id         group_type  \\\n",
       "0               unknown          5002853           4895425  Active Comparator   \n",
       "1               unknown          5002853           4895426  Active Comparator   \n",
       "2               unknown          5002848           4895421       Experimental   \n",
       "3               unknown          5002847           4895422       Experimental   \n",
       "4               unknown          5002848           4895422       Experimental   \n",
       "\n",
       "                 title intervention_name interventions_with_other_names  \\\n",
       "0  combination therapy       Ganciclovir      [Ganciclovir, [cytovene]]   \n",
       "1  combination therapy         Foscarnet        [Foscarnet, [foscavir]]   \n",
       "2          Ganciclovir         Foscarnet        [Foscarnet, [Foscavir]]   \n",
       "3            Foscarnet       Ganciclovir      [Ganciclovir, [Vitraset]]   \n",
       "4          Ganciclovir       Ganciclovir      [Ganciclovir, [Vitraset]]   \n",
       "\n",
       "                            intervention_description  \\\n",
       "0  intravenous ganciclovir induction at 5 mg/kg t...   \n",
       "1  intravenous foscarnet induction at 90 mg/kg tw...   \n",
       "2               60 mg/kg every 8 hours, 90 mg/kg/day   \n",
       "3     5 mg/kg every 12 hours, 5 mg/kg every 24 hours   \n",
       "4     5 mg/kg every 12 hours, 5 mg/kg every 24 hours   \n",
       "\n",
       "                                          mesh_terms  \\\n",
       "0  [\"HIV Infections\", \"Acquired Immunodeficiency ...   \n",
       "1  [\"HIV Infections\", \"Acquired Immunodeficiency ...   \n",
       "2         [\"Cytomegalovirus Retinitis\", \"Retinitis\"]   \n",
       "3         [\"Cytomegalovirus Retinitis\", \"Retinitis\"]   \n",
       "4         [\"Cytomegalovirus Retinitis\", \"Retinitis\"]   \n",
       "\n",
       "                                 downcase_mesh_terms  \\\n",
       "0  [\"hiv infections\", \"acquired immunodeficiency ...   \n",
       "1  [\"hiv infections\", \"acquired immunodeficiency ...   \n",
       "2         [\"cytomegalovirus retinitis\", \"retinitis\"]   \n",
       "3         [\"cytomegalovirus retinitis\", \"retinitis\"]   \n",
       "4         [\"cytomegalovirus retinitis\", \"retinitis\"]   \n",
       "\n",
       "                                     condition_names  \\\n",
       "0  [\"HIV Infections\", \"Acquired Immunodeficiency ...   \n",
       "1  [\"HIV Infections\", \"Acquired Immunodeficiency ...   \n",
       "2    [\"HIV Infections\", \"Cytomegalovirus Retinitis\"]   \n",
       "3    [\"HIV Infections\", \"Cytomegalovirus Retinitis\"]   \n",
       "4    [\"HIV Infections\", \"Cytomegalovirus Retinitis\"]   \n",
       "\n",
       "                            condition_downcase_names study_started_year  \n",
       "0  [\"hiv infections\", \"acquired immunodeficiency ...               1992  \n",
       "1  [\"hiv infections\", \"acquired immunodeficiency ...               1992  \n",
       "2    [\"hiv infections\", \"cytomegalovirus retinitis\"]               1990  \n",
       "3    [\"hiv infections\", \"cytomegalovirus retinitis\"]               1990  \n",
       "4    [\"hiv infections\", \"cytomegalovirus retinitis\"]               1990  "
      ]
     },
     "execution_count": 3,
     "metadata": {},
     "output_type": "execute_result"
    }
   ],
   "source": [
    "unag_df = pd.read_csv('../../pickles/data/drugCombs/interventions_not_aggregated.csv')\n",
    "unag_df['phase'] = unag_df['phase'].fillna(\"Doesn't Exist\")\n",
    "unag_df['overall_status'] = unag_df['overall_status'].fillna(\"Doesn't Exist\")\n",
    "unag_df['study_started_year'] = unag_df['study_start_date'].astype(str).apply(lambda x: None if years_regex.match(x) is None else years_regex.match(x)[0])\n",
    "unag_df['interventions_with_other_names'] = unag_df['interventions_with_other_names'].apply(lambda x: json.loads(x))\n",
    "unag_df['is_fda_regulated_drug'] = unag_df['is_fda_regulated_drug'].fillna(\"unknown\")\n",
    "unag_df.head(5)"
   ]
  },
  {
   "cell_type": "markdown",
   "metadata": {},
   "source": [
    "### Fix names"
   ]
  },
  {
   "cell_type": "code",
   "execution_count": 4,
   "metadata": {},
   "outputs": [
    {
     "name": "stdout",
     "output_type": "stream",
     "text": [
      "Cleaned total of: 6630 rows\n"
     ]
    }
   ],
   "source": [
    "unag_df = clean_drug_names(unag_df, 'interventions_with_other_names', 'cleaned_intervention_names')\n",
    "unag_df['cleaned'] = unag_df['interventions_with_other_names'] != unag_df['cleaned_intervention_names']\n",
    "print(f\"Cleaned total of: {unag_df['cleaned'].sum()} rows\")"
   ]
  },
  {
   "cell_type": "markdown",
   "metadata": {},
   "source": [
    "#### Calculate how many drugs we have per arm (combination size)"
   ]
  },
  {
   "cell_type": "code",
   "execution_count": 5,
   "metadata": {},
   "outputs": [
    {
     "data": {
      "text/html": [
       "<div>\n",
       "<style scoped>\n",
       "    .dataframe tbody tr th:only-of-type {\n",
       "        vertical-align: middle;\n",
       "    }\n",
       "\n",
       "    .dataframe tbody tr th {\n",
       "        vertical-align: top;\n",
       "    }\n",
       "\n",
       "    .dataframe thead th {\n",
       "        text-align: right;\n",
       "    }\n",
       "</style>\n",
       "<table border=\"1\" class=\"dataframe\">\n",
       "  <thead>\n",
       "    <tr style=\"text-align: right;\">\n",
       "      <th></th>\n",
       "      <th>design_group_id</th>\n",
       "      <th>num_of_drugs</th>\n",
       "    </tr>\n",
       "  </thead>\n",
       "  <tbody>\n",
       "    <tr>\n",
       "      <th>0</th>\n",
       "      <td>4415125</td>\n",
       "      <td>2</td>\n",
       "    </tr>\n",
       "    <tr>\n",
       "      <th>1</th>\n",
       "      <td>4415126</td>\n",
       "      <td>2</td>\n",
       "    </tr>\n",
       "    <tr>\n",
       "      <th>2</th>\n",
       "      <td>4415127</td>\n",
       "      <td>2</td>\n",
       "    </tr>\n",
       "    <tr>\n",
       "      <th>3</th>\n",
       "      <td>4415200</td>\n",
       "      <td>3</td>\n",
       "    </tr>\n",
       "    <tr>\n",
       "      <th>4</th>\n",
       "      <td>4415201</td>\n",
       "      <td>2</td>\n",
       "    </tr>\n",
       "    <tr>\n",
       "      <th>...</th>\n",
       "      <td>...</td>\n",
       "      <td>...</td>\n",
       "    </tr>\n",
       "    <tr>\n",
       "      <th>49650</th>\n",
       "      <td>5357809</td>\n",
       "      <td>2</td>\n",
       "    </tr>\n",
       "    <tr>\n",
       "      <th>49651</th>\n",
       "      <td>5357927</td>\n",
       "      <td>3</td>\n",
       "    </tr>\n",
       "    <tr>\n",
       "      <th>49652</th>\n",
       "      <td>5357937</td>\n",
       "      <td>3</td>\n",
       "    </tr>\n",
       "    <tr>\n",
       "      <th>49653</th>\n",
       "      <td>5357938</td>\n",
       "      <td>3</td>\n",
       "    </tr>\n",
       "    <tr>\n",
       "      <th>49654</th>\n",
       "      <td>5357982</td>\n",
       "      <td>3</td>\n",
       "    </tr>\n",
       "  </tbody>\n",
       "</table>\n",
       "<p>49655 rows × 2 columns</p>\n",
       "</div>"
      ],
      "text/plain": [
       "       design_group_id  num_of_drugs\n",
       "0              4415125             2\n",
       "1              4415126             2\n",
       "2              4415127             2\n",
       "3              4415200             3\n",
       "4              4415201             2\n",
       "...                ...           ...\n",
       "49650          5357809             2\n",
       "49651          5357927             3\n",
       "49652          5357937             3\n",
       "49653          5357938             3\n",
       "49654          5357982             3\n",
       "\n",
       "[49655 rows x 2 columns]"
      ]
     },
     "execution_count": 5,
     "metadata": {},
     "output_type": "execute_result"
    }
   ],
   "source": [
    "dgi_to_amount = pd.DataFrame(unag_df.groupby(\"design_group_id\")['cleaned'].count()).reset_index()\n",
    "dgi_to_amount.columns = ['design_group_id', \"num_of_drugs\"]\n",
    "dgi_to_amount"
   ]
  },
  {
   "cell_type": "markdown",
   "metadata": {},
   "source": [
    "## Add drugbank ids"
   ]
  },
  {
   "cell_type": "markdown",
   "metadata": {},
   "source": [
    "### Load cache of drugids for name"
   ]
  },
  {
   "cell_type": "code",
   "execution_count": 6,
   "metadata": {},
   "outputs": [
    {
     "name": "stdout",
     "output_type": "stream",
     "text": [
      "cache size: 31239\n"
     ]
    }
   ],
   "source": [
    "cache_exists = os.path.exists('cache.json')\n",
    "drugbank_cache = {}\n",
    "if cache_exists:\n",
    "    with open('cache.json', 'r') as cache_file:\n",
    "        drugbank_cache = json.load(cache_file)\n",
    "    print(f\"cache size: {len(drugbank_cache)}\")\n"
   ]
  },
  {
   "cell_type": "markdown",
   "metadata": {},
   "source": [
    "### Fetch drugbank ids from remote server"
   ]
  },
  {
   "cell_type": "code",
   "execution_count": 7,
   "metadata": {
    "scrolled": true
   },
   "outputs": [
    {
     "name": "stderr",
     "output_type": "stream",
     "text": [
      "100%|██████████| 133552/133552 [00:00<00:00, 449928.74it/s]\n"
     ]
    }
   ],
   "source": [
    "unag_df['drugbank_ids'] = unag_df['cleaned_intervention_names']\\\n",
    "        .progress_map(lambda x: get_drug_identifier_single(id_converter, x, drugbank_cache))"
   ]
  },
  {
   "cell_type": "markdown",
   "metadata": {},
   "source": [
    "### Save the updated cache"
   ]
  },
  {
   "cell_type": "code",
   "execution_count": 8,
   "metadata": {},
   "outputs": [],
   "source": [
    "with open('cache.json', 'w') as cache_file:\n",
    "    json.dump(drugbank_cache, cache_file)"
   ]
  },
  {
   "cell_type": "markdown",
   "metadata": {},
   "source": [
    "### Save results to csv"
   ]
  },
  {
   "cell_type": "code",
   "execution_count": 9,
   "metadata": {},
   "outputs": [
    {
     "name": "stdout",
     "output_type": "stream",
     "text": [
      "0.6872978315562478 got db_id\n"
     ]
    }
   ],
   "source": [
    "unag_df.to_csv(\"drug_combs_with_phase_and_cond_and_other_names_with_dbid.csv\")\n",
    "entries_with_dbid = unag_df[unag_df['drugbank_ids'].isnull() == False]\n",
    "print(f\"{len(unag_df[unag_df['drugbank_ids'].isnull() == False])/len(unag_df)} got db_id\")"
   ]
  },
  {
   "cell_type": "code",
   "execution_count": null,
   "metadata": {},
   "outputs": [],
   "source": [
    "combs = pd.DataFrame(entries_with_dbid.groupby(['nct_id', 'study_start_date', 'phase', 'overall_status', \n",
    "                                                'design_group_id', 'is_fda_regulated_drug',\n",
    "       'group_type', 'title', 'mesh_terms', 'downcase_mesh_terms', 'condition_names',\n",
    "       'condition_downcase_names', 'study_started_year'])['drugbank_ids'].apply(list))\n",
    "combs = combs.reset_index()\n",
    "combs['num_of_drugs_with_dbid'] = combs['drugbank_ids'].apply(lambda x: len(x))\n",
    "combs = combs[combs['num_of_drugs_with_dbid'] > 1]\n",
    "combs = combs.merge(dgi_to_amount, on=\"design_group_id\")\n",
    "combs = combs[combs['num_of_drugs'] == combs['num_of_drugs_with_dbid']]\n",
    "print(f\"Got total of:{len(combs)} combs\")"
   ]
  },
  {
   "cell_type": "markdown",
   "metadata": {},
   "source": [
    "## What kind of combinations do we have?"
   ]
  },
  {
   "cell_type": "code",
   "execution_count": null,
   "metadata": {},
   "outputs": [],
   "source": [
    "combs"
   ]
  },
  {
   "cell_type": "code",
   "execution_count": null,
   "metadata": {},
   "outputs": [],
   "source": [
    "by_phase_df = pd.DataFrame(combs['phase'].value_counts()).reset_index()\n",
    "by_phase_df.columns = [\"Phase\", \"Count\"]\n",
    "plt.figure(figsize=(14, 6))\n",
    "plt.title(\"Drug Combinations Arms By Phase\")\n",
    "plt.xlabel(\"Phase\")\n",
    "plt.ylabel(\"Amount of arm group with multiple drugs\")\n",
    "plt.bar(by_phase_df['Phase'], by_phase_df['Count'])\n",
    "\n",
    "by_overall_status_df = pd.DataFrame(combs['overall_status'].value_counts()).reset_index()\n",
    "by_overall_status_df.columns = [\"overall_status\", \"Count\"]\n",
    "plt.figure(figsize=(8, 8))\n",
    "plt.title(\"Drug Combinations Arms By overall_status\")\n",
    "plt.xlabel(\"Phase\")\n",
    "plt.ylabel(\"Amount of arm group with multiple drugs\")\n",
    "plt.barh(by_overall_status_df['overall_status'], by_overall_status_df['Count'])\n",
    "sns.barplot(by_overall_status_df['Count'], by_overall_status_df['overall_status'])\n",
    "\n",
    "by_study_started_year = pd.DataFrame(combs['study_started_year'].dropna().astype(int).value_counts()).reset_index()\n",
    "by_study_started_year = by_study_started_year.sort_values(by=\"study_started_year\", ascending=True)\n",
    "by_study_started_year.columns = [\"study_started_year\", \"Count\"]\n",
    "plt.figure(figsize=(8, 8))\n",
    "plt.title(\"Drug Combinations Arms By study_started_year\")\n",
    "plt.xlabel(\"study_started_year\")\n",
    "plt.ylabel(\"Amount of arm group with multiple drugs\")\n",
    "by_study_started_year = by_study_started_year[by_study_started_year['study_started_year'] >= 1987]\n",
    "# sns.barplot(by_study_started_year['study_started_year'], by_study_started_year['Count'])\n",
    "plt.bar(by_study_started_year['study_started_year'], by_study_started_year['Count'])"
   ]
  },
  {
   "cell_type": "code",
   "execution_count": null,
   "metadata": {},
   "outputs": [],
   "source": [
    "neoplasams_combs = combs[combs['downcase_mesh_terms'].str.contains('neoplasms')]\n",
    "neoplasams_combs = neoplasams_combs[neoplasams_combs['study_started_year'].astype('int') <= 2014]\n",
    "neoplasams_combs = neoplasams_combs[neoplasams_combs['overall_status'] == 'Completed']"
   ]
  },
  {
   "cell_type": "code",
   "execution_count": null,
   "metadata": {},
   "outputs": [],
   "source": [
    "two_combs_df = neoplasams_combs[neoplasams_combs['num_of_drugs_with_dbid'] == 2]\n",
    "two_combs_df['first_drug'] = neoplasams_combs['drugbank_ids'].apply(lambda x: x[0])\n",
    "two_combs_df['second_drug'] = neoplasams_combs['drugbank_ids'].apply(lambda x: x[1])\n",
    "two_combs_df"
   ]
  }
 ],
 "metadata": {
  "kernelspec": {
   "display_name": "Python (drugCombs)",
   "language": "python",
   "name": "drugcombs"
  },
  "language_info": {
   "codemirror_mode": {
    "name": "ipython",
    "version": 3
   },
   "file_extension": ".py",
   "mimetype": "text/x-python",
   "name": "python",
   "nbconvert_exporter": "python",
   "pygments_lexer": "ipython3",
   "version": "3.7.1"
  }
 },
 "nbformat": 4,
 "nbformat_minor": 4
}
